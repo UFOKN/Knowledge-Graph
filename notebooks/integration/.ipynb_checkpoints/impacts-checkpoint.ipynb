{
 "cells": [
  {
   "cell_type": "markdown",
   "id": "307fafe7-2bb3-46e4-ae02-45ad3526b9aa",
   "metadata": {},
   "source": [
    "\n",
    "\n",
    "![KWG](./assets/kwg.png)   ![UFOKN](./assets/ufokn.png)\n",
    "\n",
    "\n",
    "# Leveraging Impact Feature to Integrate UFOKN and KnowWhereGRaph \n",
    "\n"
   ]
  },
  {
   "cell_type": "markdown",
   "id": "a5289261-1825-4283-88ff-4f7f511cbae4",
   "metadata": {
    "tags": []
   },
   "source": [
    "## Imports and Functions"
   ]
  },
  {
   "cell_type": "code",
   "execution_count": 1,
   "id": "121d7852",
   "metadata": {
    "ExecuteTime": {
     "end_time": "2023-06-23T17:16:08.153963956Z",
     "start_time": "2023-06-23T17:16:08.112944768Z"
    },
    "collapsed": false,
    "jupyter": {
     "outputs_hidden": false
    },
    "tags": []
   },
   "outputs": [
    {
     "name": "stderr",
     "output_type": "stream",
     "text": [
      "/home/fils/.local/lib/python3.10/site-packages/rdflib_jsonld/__init__.py:9: DeprecationWarning: The rdflib-jsonld package has been integrated into rdflib as of rdflib==6.0.1.  Please remove rdflib-jsonld from your project's dependencies.\n",
      "  warnings.warn(\n"
     ]
    }
   ],
   "source": [
    "from SPARQLWrapper import SPARQLWrapper, JSON\n",
    "import pandas as pd\n",
    "import numpy as np\n",
    "import json\n",
    "import geopandas\n",
    "import s2geometry\n",
    "import s2sphere as s2\n",
    "from s2sphere import LatLng, CellId\n",
    "\n",
    "from s2sphere import CellId, LatLng, Cell\n",
    "\n",
    "import fiona\n",
    "import matplotlib.pyplot as plt\n",
    "import shapely"
   ]
  },
  {
   "cell_type": "code",
   "execution_count": 2,
   "id": "ff2e52a3-47e0-4f7b-ae18-60717260117a",
   "metadata": {
    "ExecuteTime": {
     "end_time": "2023-06-23T17:16:08.583238003Z",
     "start_time": "2023-06-23T17:16:08.575602562Z"
    },
    "tags": []
   },
   "outputs": [],
   "source": [
    "sep = \"https://graphdb.provisium.io/repositories/ufoknimpacts\""
   ]
  },
  {
   "cell_type": "code",
   "execution_count": 3,
   "id": "b5687848",
   "metadata": {
    "ExecuteTime": {
     "end_time": "2023-06-23T17:16:08.889002826Z",
     "start_time": "2023-06-23T17:16:08.848379783Z"
    },
    "collapsed": false,
    "jupyter": {
     "outputs_hidden": false
    },
    "tags": []
   },
   "outputs": [],
   "source": [
    "# Simple cell id generation\n",
    "def s3rc(lmin, lmax, cmax, p1lat, p1lng, p2lat, p2lng):\n",
    "    r = s2.RegionCoverer()\n",
    "    r.min_level=lmin\n",
    "    r.max_level=lmax\n",
    "    r.max_cells=cmax\n",
    "    p1 = s2.LatLng.from_degrees(p1lat, p1lng)\n",
    "    p2 = s2.LatLng.from_degrees(p2lat, p2lng)\n",
    "    cell_ids = r.get_covering(s2.LatLngRect.from_point_pair(p1, p2))\n",
    "    return(cell_ids)"
   ]
  },
  {
   "cell_type": "code",
   "execution_count": 4,
   "id": "9ced3736",
   "metadata": {
    "ExecuteTime": {
     "end_time": "2023-06-23T17:16:09.033892971Z",
     "start_time": "2023-06-23T17:16:09.032013732Z"
    },
    "collapsed": false,
    "jupyter": {
     "outputs_hidden": false
    },
    "tags": []
   },
   "outputs": [],
   "source": [
    "#@title\n",
    "def get_sparql_dataframe(service, query):\n",
    "    \"\"\"\n",
    "    Helper function to convert SPARQL results into a Pandas data frame.\n",
    "    \"\"\"\n",
    "    sparql = SPARQLWrapper(service)\n",
    "    sparql.setQuery(query)\n",
    "    sparql.setReturnFormat(JSON)\n",
    "    result = sparql.query()\n",
    "\n",
    "    processed_results = json.load(result.response)\n",
    "    cols = processed_results['head']['vars']\n",
    "\n",
    "    out = []\n",
    "    for row in processed_results['results']['bindings']:\n",
    "        item = []\n",
    "        for c in cols:\n",
    "            item.append(row.get(c, {}).get('value'))\n",
    "        out.append(item)\n",
    "\n",
    "    return pd.DataFrame(out, columns=cols)"
   ]
  },
  {
   "cell_type": "code",
   "execution_count": 5,
   "id": "5c9cf197",
   "metadata": {
    "ExecuteTime": {
     "end_time": "2023-06-23T17:16:09.623290239Z",
     "start_time": "2023-06-23T17:16:09.617577484Z"
    },
    "collapsed": false,
    "jupyter": {
     "outputs_hidden": false
    },
    "tags": []
   },
   "outputs": [],
   "source": [
    "def get_cell_id(\n",
    "        latitude: float,\n",
    "        longitude: float,\n",
    "        level: int\n",
    ") -> int:\n",
    "    return CellId.from_lat_lng(LatLng(latitude, longitude)).parent(level).id()"
   ]
  },
  {
   "cell_type": "markdown",
   "id": "995a9d48",
   "metadata": {},
   "source": [
    "## Load Sample UFOKN Forecast Data\n",
    "### SPARQL to dataframe\n",
    "\n",
    "This step loads a sample forecast data file from UFOKN. In this step a SPARQL call loads a Pandas dataframe\n"
   ]
  },
  {
   "cell_type": "code",
   "execution_count": 6,
   "id": "b587d9df",
   "metadata": {
    "ExecuteTime": {
     "end_time": "2023-06-23T17:16:14.126401112Z",
     "start_time": "2023-06-23T17:16:11.854895529Z"
    },
    "collapsed": false,
    "jupyter": {
     "outputs_hidden": false
    },
    "tags": []
   },
   "outputs": [
    {
     "data": {
      "text/html": [
       "<div>\n",
       "<style scoped>\n",
       "    .dataframe tbody tr th:only-of-type {\n",
       "        vertical-align: middle;\n",
       "    }\n",
       "\n",
       "    .dataframe tbody tr th {\n",
       "        vertical-align: top;\n",
       "    }\n",
       "\n",
       "    .dataframe thead th {\n",
       "        text-align: right;\n",
       "    }\n",
       "</style>\n",
       "<table border=\"1\" class=\"dataframe\">\n",
       "  <thead>\n",
       "    <tr style=\"text-align: right;\">\n",
       "      <th></th>\n",
       "      <th>statefips</th>\n",
       "      <th>tractfips</th>\n",
       "      <th>countyfips</th>\n",
       "      <th>dctype</th>\n",
       "      <th>feature</th>\n",
       "      <th>fmax</th>\n",
       "      <th>fmin</th>\n",
       "      <th>tstart</th>\n",
       "      <th>tmax</th>\n",
       "      <th>x</th>\n",
       "      <th>y</th>\n",
       "    </tr>\n",
       "  </thead>\n",
       "  <tbody>\n",
       "    <tr>\n",
       "      <th>0</th>\n",
       "      <td>40</td>\n",
       "      <td>40109108529</td>\n",
       "      <td>40109</td>\n",
       "      <td>building</td>\n",
       "      <td>urn:ufokn:id:feature:9y6d6w9drtkm</td>\n",
       "      <td>0.344</td>\n",
       "      <td>0.149</td>\n",
       "      <td>t_1</td>\n",
       "      <td>t_1</td>\n",
       "      <td>-97.62212401972721</td>\n",
       "      <td>35.58787872602303</td>\n",
       "    </tr>\n",
       "    <tr>\n",
       "      <th>1</th>\n",
       "      <td>40</td>\n",
       "      <td>40109108529</td>\n",
       "      <td>40109</td>\n",
       "      <td>building</td>\n",
       "      <td>urn:ufokn:id:feature:9y6d6w9u0j2u</td>\n",
       "      <td>0.407</td>\n",
       "      <td>0.212</td>\n",
       "      <td>t_1</td>\n",
       "      <td>t_1</td>\n",
       "      <td>-97.62210739115255</td>\n",
       "      <td>35.58817902021256</td>\n",
       "    </tr>\n",
       "    <tr>\n",
       "      <th>2</th>\n",
       "      <td>40</td>\n",
       "      <td>40109108529</td>\n",
       "      <td>40109</td>\n",
       "      <td>building</td>\n",
       "      <td>urn:ufokn:id:feature:9y6d6t308nd4</td>\n",
       "      <td>0.3</td>\n",
       "      <td>0.022</td>\n",
       "      <td>t_1</td>\n",
       "      <td>t_1</td>\n",
       "      <td>-97.6231356527455</td>\n",
       "      <td>35.580718109494335</td>\n",
       "    </tr>\n",
       "    <tr>\n",
       "      <th>3</th>\n",
       "      <td>48</td>\n",
       "      <td>48439113222</td>\n",
       "      <td>48439</td>\n",
       "      <td>building</td>\n",
       "      <td>urn:ufokn:id:feature:9vffu4suw8r8</td>\n",
       "      <td>0.009</td>\n",
       "      <td>0.009</td>\n",
       "      <td>t_2</td>\n",
       "      <td>t_2</td>\n",
       "      <td>-97.20021880545634</td>\n",
       "      <td>32.84165524883419</td>\n",
       "    </tr>\n",
       "    <tr>\n",
       "      <th>4</th>\n",
       "      <td>48</td>\n",
       "      <td>48201520100</td>\n",
       "      <td>48201</td>\n",
       "      <td>building</td>\n",
       "      <td>urn:ufokn:id:feature:9vk17zsx76r7</td>\n",
       "      <td>0.061</td>\n",
       "      <td>0.005</td>\n",
       "      <td>t_4</td>\n",
       "      <td>t_8</td>\n",
       "      <td>-95.45387600000227</td>\n",
       "      <td>29.793432500073962</td>\n",
       "    </tr>\n",
       "  </tbody>\n",
       "</table>\n",
       "</div>"
      ],
      "text/plain": [
       "  statefips    tractfips countyfips    dctype  \\\n",
       "0        40  40109108529      40109  building   \n",
       "1        40  40109108529      40109  building   \n",
       "2        40  40109108529      40109  building   \n",
       "3        48  48439113222      48439  building   \n",
       "4        48  48201520100      48201  building   \n",
       "\n",
       "                             feature   fmax   fmin tstart tmax  \\\n",
       "0  urn:ufokn:id:feature:9y6d6w9drtkm  0.344  0.149    t_1  t_1   \n",
       "1  urn:ufokn:id:feature:9y6d6w9u0j2u  0.407  0.212    t_1  t_1   \n",
       "2  urn:ufokn:id:feature:9y6d6t308nd4    0.3  0.022    t_1  t_1   \n",
       "3  urn:ufokn:id:feature:9vffu4suw8r8  0.009  0.009    t_2  t_2   \n",
       "4  urn:ufokn:id:feature:9vk17zsx76r7  0.061  0.005    t_4  t_8   \n",
       "\n",
       "                    x                   y  \n",
       "0  -97.62212401972721   35.58787872602303  \n",
       "1  -97.62210739115255   35.58817902021256  \n",
       "2   -97.6231356527455  35.580718109494335  \n",
       "3  -97.20021880545634   32.84165524883419  \n",
       "4  -95.45387600000227  29.793432500073962  "
      ]
     },
     "execution_count": 6,
     "metadata": {},
     "output_type": "execute_result"
    }
   ],
   "source": [
    "fq = \"\"\"\n",
    "PREFIX prov: <http://www.w3.org/ns/prov#>\n",
    "PREFIX schema: <http://schema.org/>\n",
    "PREFIX sd: <http://www.w3.org/ns/sparql-service-description#>\n",
    "PREFIX ufokn: <http://id.ufokn.org/>\n",
    "PREFIX xsd: <http://www.w3.org/2001/XMLSchema#>\n",
    "\n",
    "SELECT ?statefips ?tractfips ?countyfips ?dctype ?feature ?fmax ?fmin ?tstart ?tmax ?x ?y\n",
    "WHERE\n",
    "  {\n",
    "      ?s ufokn:countyFIPSCode ?countyfips .\n",
    "      ?s   ufokn:dcterms:type ?dctype .\n",
    "      ?s   ufokn:forFeature ?feature .\n",
    "      ?s   ufokn:maxFloodDepthInMeters ?fmax .\n",
    "      ?s   ufokn:minimumFloodDepthInMeters  ?fmin .\n",
    "      ?s   ufokn:stateFIPSCode  ?statefips .\n",
    "      ?s   ufokn:timeOfFirstFlood  ?tstart .\n",
    "      ?s   ufokn:timeOfMaxFlood  ?tmax .\n",
    "      ?s   ufokn:tractFIPSCode ?tractfips .\n",
    "      ?s   ufokn:x_coord  ?x .\n",
    "      ?s   ufokn:y_coord  ?y .\n",
    "  }\n",
    "\"\"\"\n",
    "\n",
    "dffq = get_sparql_dataframe(sep, fq)\n",
    "dffq.head(5)"
   ]
  },
  {
   "cell_type": "code",
   "execution_count": 8,
   "id": "ded7589b-039a-49bf-a16b-73ad4129014a",
   "metadata": {
    "tags": []
   },
   "outputs": [
    {
     "name": "stdout",
     "output_type": "stream",
     "text": [
      "At this stage our test data has 44140 features of interest in it\n"
     ]
    }
   ],
   "source": [
    "print(\"At this stage our test data has {} features of interest in it\".format(len(dffq)))"
   ]
  },
  {
   "cell_type": "markdown",
   "id": "f4b14e80",
   "metadata": {},
   "source": [
    "## Spatial Dataframe (GeoPandas)\n",
    "\n",
    "Next, we will convert our Pandas dataframe into a GeoPandas dataframe so we can convert spatial data to geometries we can work with more directly\n",
    "\n",
    "### NOTE:  \n",
    "This step isn't actually needed in the end, since when working with KnowWhereGraph (KWG) via S2 cells we are leveraging cell id values and their relations to each other.  So, in some ways the integration with KWG allows for less technical debt, in the form of geospatial workflows, on the part of those leveraging KWG. "
   ]
  },
  {
   "cell_type": "code",
   "execution_count": 9,
   "id": "bf647341",
   "metadata": {
    "ExecuteTime": {
     "end_time": "2023-06-23T17:17:01.099986098Z",
     "start_time": "2023-06-23T17:17:00.222226937Z"
    },
    "collapsed": false,
    "jupyter": {
     "outputs_hidden": false
    },
    "tags": []
   },
   "outputs": [],
   "source": [
    "# Let's make a geopandas version of our data frame to enable spatial operations (for this test we are looking at around 44K items) \n",
    "gdf = geopandas.GeoDataFrame(dffq, geometry=geopandas.points_from_xy(dffq[\"x\"], dffq[\"y\"]), crs=3857)"
   ]
  },
  {
   "cell_type": "code",
   "execution_count": 12,
   "id": "0b2a71b0",
   "metadata": {
    "ExecuteTime": {
     "end_time": "2023-06-23T17:17:06.986151688Z",
     "start_time": "2023-06-23T17:17:04.199462390Z"
    },
    "collapsed": false,
    "jupyter": {
     "outputs_hidden": false
    },
    "tags": []
   },
   "outputs": [
    {
     "name": "stderr",
     "output_type": "stream",
     "text": [
      "/tmp/ipykernel_1678468/1397176681.py:5: FutureWarning: The frame.append method is deprecated and will be removed from pandas in a future version. Use pandas.concat instead.\n",
      "  combined = gdf.append(cgpd)\n"
     ]
    },
    {
     "data": {
      "text/plain": [
       "<AxesSubplot: >"
      ]
     },
     "execution_count": 12,
     "metadata": {},
     "output_type": "execute_result"
    },
    {
     "data": {
      "image/png": "[encoded data removed]",
      "text/plain": [
       "<Figure size 1080x1080 with 1 Axes>"
      ]
     },
     "metadata": {
      "needs_background": "light"
     },
     "output_type": "display_data"
    }
   ],
   "source": [
    "# A quick visual to see where all our features of interest are\n",
    "counties = \"https://raw.githubusercontent.com/deldersveld/topojson/master/countries/united-states/us-albers.json\"\n",
    "cgpd = geopandas.read_file(counties)\n",
    "\n",
    "combined = gdf.append(cgpd)\n",
    "ax = combined.plot(color='white', edgecolor='black', figsize=(15,15))\n",
    "gdf.plot(ax=ax, color='red') # We can now plot our ``GeoDataFrame``."
   ]
  },
  {
   "cell_type": "markdown",
   "id": "6a9d9839",
   "metadata": {},
   "source": [
    "## Generate S2 grid cells\n",
    "\n",
    "KWG shared some example code that we can use to add S2 grid cells to our dataframe.  UFOKN will add this to our graph\n",
    "representation a priori in the future such that this steps done so far are no longer needed.\n",
    "\n",
    "For now, we will add them here.\n"
   ]
  },
  {
   "cell_type": "code",
   "execution_count": 13,
   "id": "9730b532",
   "metadata": {
    "ExecuteTime": {
     "end_time": "2023-06-23T17:17:12.840420954Z",
     "start_time": "2023-06-23T17:17:11.852561785Z"
    },
    "collapsed": false,
    "jupyter": {
     "outputs_hidden": false
    },
    "tags": []
   },
   "outputs": [
    {
     "data": {
      "text/html": [
       "<div>\n",
       "<style scoped>\n",
       "    .dataframe tbody tr th:only-of-type {\n",
       "        vertical-align: middle;\n",
       "    }\n",
       "\n",
       "    .dataframe tbody tr th {\n",
       "        vertical-align: top;\n",
       "    }\n",
       "\n",
       "    .dataframe thead th {\n",
       "        text-align: right;\n",
       "    }\n",
       "</style>\n",
       "<table border=\"1\" class=\"dataframe\">\n",
       "  <thead>\n",
       "    <tr style=\"text-align: right;\">\n",
       "      <th></th>\n",
       "      <th>statefips</th>\n",
       "      <th>tractfips</th>\n",
       "      <th>countyfips</th>\n",
       "      <th>dctype</th>\n",
       "      <th>feature</th>\n",
       "      <th>fmax</th>\n",
       "      <th>fmin</th>\n",
       "      <th>tstart</th>\n",
       "      <th>tmax</th>\n",
       "      <th>x</th>\n",
       "      <th>y</th>\n",
       "      <th>geometry</th>\n",
       "      <th>s2</th>\n",
       "    </tr>\n",
       "  </thead>\n",
       "  <tbody>\n",
       "    <tr>\n",
       "      <th>0</th>\n",
       "      <td>40</td>\n",
       "      <td>40109108529</td>\n",
       "      <td>40109</td>\n",
       "      <td>building</td>\n",
       "      <td>urn:ufokn:id:feature:9y6d6w9drtkm</td>\n",
       "      <td>0.344</td>\n",
       "      <td>0.149</td>\n",
       "      <td>t_1</td>\n",
       "      <td>t_1</td>\n",
       "      <td>-97.62212401972721</td>\n",
       "      <td>35.58787872602303</td>\n",
       "      <td>POINT (-97.622 35.588)</td>\n",
       "      <td>13377008778235346944</td>\n",
       "    </tr>\n",
       "    <tr>\n",
       "      <th>1</th>\n",
       "      <td>40</td>\n",
       "      <td>40109108529</td>\n",
       "      <td>40109</td>\n",
       "      <td>building</td>\n",
       "      <td>urn:ufokn:id:feature:9y6d6w9u0j2u</td>\n",
       "      <td>0.407</td>\n",
       "      <td>0.212</td>\n",
       "      <td>t_1</td>\n",
       "      <td>t_1</td>\n",
       "      <td>-97.62210739115255</td>\n",
       "      <td>35.58817902021256</td>\n",
       "      <td>POINT (-97.622 35.588)</td>\n",
       "      <td>13377008846954823680</td>\n",
       "    </tr>\n",
       "    <tr>\n",
       "      <th>2</th>\n",
       "      <td>40</td>\n",
       "      <td>40109108529</td>\n",
       "      <td>40109</td>\n",
       "      <td>building</td>\n",
       "      <td>urn:ufokn:id:feature:9y6d6t308nd4</td>\n",
       "      <td>0.3</td>\n",
       "      <td>0.022</td>\n",
       "      <td>t_1</td>\n",
       "      <td>t_1</td>\n",
       "      <td>-97.6231356527455</td>\n",
       "      <td>35.580718109494335</td>\n",
       "      <td>POINT (-97.623 35.581)</td>\n",
       "      <td>13377032864411942912</td>\n",
       "    </tr>\n",
       "    <tr>\n",
       "      <th>3</th>\n",
       "      <td>48</td>\n",
       "      <td>48439113222</td>\n",
       "      <td>48439</td>\n",
       "      <td>building</td>\n",
       "      <td>urn:ufokn:id:feature:9vffu4suw8r8</td>\n",
       "      <td>0.009</td>\n",
       "      <td>0.009</td>\n",
       "      <td>t_2</td>\n",
       "      <td>t_2</td>\n",
       "      <td>-97.20021880545634</td>\n",
       "      <td>32.84165524883419</td>\n",
       "      <td>POINT (-97.200 32.842)</td>\n",
       "      <td>5799019745902592000</td>\n",
       "    </tr>\n",
       "    <tr>\n",
       "      <th>4</th>\n",
       "      <td>48</td>\n",
       "      <td>48201520100</td>\n",
       "      <td>48201</td>\n",
       "      <td>building</td>\n",
       "      <td>urn:ufokn:id:feature:9vk17zsx76r7</td>\n",
       "      <td>0.061</td>\n",
       "      <td>0.005</td>\n",
       "      <td>t_4</td>\n",
       "      <td>t_8</td>\n",
       "      <td>-95.45387600000227</td>\n",
       "      <td>29.793432500073962</td>\n",
       "      <td>POINT (-95.454 29.793)</td>\n",
       "      <td>12674047117212254208</td>\n",
       "    </tr>\n",
       "    <tr>\n",
       "      <th>5</th>\n",
       "      <td>26</td>\n",
       "      <td>26163579501</td>\n",
       "      <td>26163</td>\n",
       "      <td>building</td>\n",
       "      <td>urn:ufokn:id:feature:dpsbkh6we7d7</td>\n",
       "      <td>5.965</td>\n",
       "      <td>1.664</td>\n",
       "      <td>t_1</td>\n",
       "      <td>t_1</td>\n",
       "      <td>-83.14095550001178</td>\n",
       "      <td>42.25592649999513</td>\n",
       "      <td>POINT (-83.141 42.256)</td>\n",
       "      <td>12670517753606569984</td>\n",
       "    </tr>\n",
       "    <tr>\n",
       "      <th>6</th>\n",
       "      <td>26</td>\n",
       "      <td>26163579501</td>\n",
       "      <td>26163</td>\n",
       "      <td>building</td>\n",
       "      <td>urn:ufokn:id:feature:dpsbkh6wtb8j</td>\n",
       "      <td>5.965</td>\n",
       "      <td>1.664</td>\n",
       "      <td>t_1</td>\n",
       "      <td>t_1</td>\n",
       "      <td>-83.14085092992</td>\n",
       "      <td>42.25591072527856</td>\n",
       "      <td>POINT (-83.141 42.256)</td>\n",
       "      <td>12670517753606569984</td>\n",
       "    </tr>\n",
       "    <tr>\n",
       "      <th>7</th>\n",
       "      <td>26</td>\n",
       "      <td>26163579501</td>\n",
       "      <td>26163</td>\n",
       "      <td>building</td>\n",
       "      <td>urn:ufokn:id:feature:dpsbkh6ypvh6</td>\n",
       "      <td>5.919</td>\n",
       "      <td>1.618</td>\n",
       "      <td>t_1</td>\n",
       "      <td>t_1</td>\n",
       "      <td>-83.14041607571126</td>\n",
       "      <td>42.25584853943928</td>\n",
       "      <td>POINT (-83.140 42.256)</td>\n",
       "      <td>12670517925405261824</td>\n",
       "    </tr>\n",
       "    <tr>\n",
       "      <th>8</th>\n",
       "      <td>26</td>\n",
       "      <td>26163579501</td>\n",
       "      <td>26163</td>\n",
       "      <td>building</td>\n",
       "      <td>urn:ufokn:id:feature:dpsbkh735dts</td>\n",
       "      <td>6.093</td>\n",
       "      <td>1.792</td>\n",
       "      <td>t_1</td>\n",
       "      <td>t_1</td>\n",
       "      <td>-83.13991040149467</td>\n",
       "      <td>42.25497710802895</td>\n",
       "      <td>POINT (-83.140 42.255)</td>\n",
       "      <td>12670518509520814080</td>\n",
       "    </tr>\n",
       "    <tr>\n",
       "      <th>9</th>\n",
       "      <td>26</td>\n",
       "      <td>26163579501</td>\n",
       "      <td>26163</td>\n",
       "      <td>building</td>\n",
       "      <td>urn:ufokn:id:feature:dpsbkh73s4w8</td>\n",
       "      <td>6.135</td>\n",
       "      <td>1.834</td>\n",
       "      <td>t_1</td>\n",
       "      <td>t_1</td>\n",
       "      <td>-83.13988766433154</td>\n",
       "      <td>42.2550621834282</td>\n",
       "      <td>POINT (-83.140 42.255)</td>\n",
       "      <td>12670518509520814080</td>\n",
       "    </tr>\n",
       "  </tbody>\n",
       "</table>\n",
       "</div>"
      ],
      "text/plain": [
       "  statefips    tractfips countyfips    dctype  \\\n",
       "0        40  40109108529      40109  building   \n",
       "1        40  40109108529      40109  building   \n",
       "2        40  40109108529      40109  building   \n",
       "3        48  48439113222      48439  building   \n",
       "4        48  48201520100      48201  building   \n",
       "5        26  26163579501      26163  building   \n",
       "6        26  26163579501      26163  building   \n",
       "7        26  26163579501      26163  building   \n",
       "8        26  26163579501      26163  building   \n",
       "9        26  26163579501      26163  building   \n",
       "\n",
       "                             feature   fmax   fmin tstart tmax  \\\n",
       "0  urn:ufokn:id:feature:9y6d6w9drtkm  0.344  0.149    t_1  t_1   \n",
       "1  urn:ufokn:id:feature:9y6d6w9u0j2u  0.407  0.212    t_1  t_1   \n",
       "2  urn:ufokn:id:feature:9y6d6t308nd4    0.3  0.022    t_1  t_1   \n",
       "3  urn:ufokn:id:feature:9vffu4suw8r8  0.009  0.009    t_2  t_2   \n",
       "4  urn:ufokn:id:feature:9vk17zsx76r7  0.061  0.005    t_4  t_8   \n",
       "5  urn:ufokn:id:feature:dpsbkh6we7d7  5.965  1.664    t_1  t_1   \n",
       "6  urn:ufokn:id:feature:dpsbkh6wtb8j  5.965  1.664    t_1  t_1   \n",
       "7  urn:ufokn:id:feature:dpsbkh6ypvh6  5.919  1.618    t_1  t_1   \n",
       "8  urn:ufokn:id:feature:dpsbkh735dts  6.093  1.792    t_1  t_1   \n",
       "9  urn:ufokn:id:feature:dpsbkh73s4w8  6.135  1.834    t_1  t_1   \n",
       "\n",
       "                    x                   y                geometry  \\\n",
       "0  -97.62212401972721   35.58787872602303  POINT (-97.622 35.588)   \n",
       "1  -97.62210739115255   35.58817902021256  POINT (-97.622 35.588)   \n",
       "2   -97.6231356527455  35.580718109494335  POINT (-97.623 35.581)   \n",
       "3  -97.20021880545634   32.84165524883419  POINT (-97.200 32.842)   \n",
       "4  -95.45387600000227  29.793432500073962  POINT (-95.454 29.793)   \n",
       "5  -83.14095550001178   42.25592649999513  POINT (-83.141 42.256)   \n",
       "6     -83.14085092992   42.25591072527856  POINT (-83.141 42.256)   \n",
       "7  -83.14041607571126   42.25584853943928  POINT (-83.140 42.256)   \n",
       "8  -83.13991040149467   42.25497710802895  POINT (-83.140 42.255)   \n",
       "9  -83.13988766433154    42.2550621834282  POINT (-83.140 42.255)   \n",
       "\n",
       "                     s2  \n",
       "0  13377008778235346944  \n",
       "1  13377008846954823680  \n",
       "2  13377032864411942912  \n",
       "3   5799019745902592000  \n",
       "4  12674047117212254208  \n",
       "5  12670517753606569984  \n",
       "6  12670517753606569984  \n",
       "7  12670517925405261824  \n",
       "8  12670518509520814080  \n",
       "9  12670518509520814080  "
      ]
     },
     "execution_count": 13,
     "metadata": {},
     "output_type": "execute_result"
    }
   ],
   "source": [
    "# Note, get_cell_id is lat long, not long lat\n",
    "dffq[\"s2\"] = dffq.apply(lambda row: get_cell_id(float(row[\"y\"]), float(row[\"x\"]), 13), axis=1)\n",
    "dffq.head(10)"
   ]
  },
  {
   "cell_type": "code",
   "execution_count": 16,
   "id": "d9f3be75-3af5-4753-a9f6-71832894669d",
   "metadata": {
    "tags": []
   },
   "outputs": [],
   "source": [
    "# export file which could be loaded into kepler for example\n",
    "dffq.to_csv('dataframe.csv', index=False)"
   ]
  },
  {
   "cell_type": "markdown",
   "id": "9879568b-989d-45f4-bdaa-97d41b2b9f1f",
   "metadata": {},
   "source": [
    "## Question:  Do s2 grids reduce potential integration overhead?\n",
    "\n",
    "At this point it is interesting to note that we enough information to start integreation calls with KWG.  Of interest here is the resolution difference between UFOKN and KWG. Where UFOKN operates at almost meter level, this is not needed when trying to align with more course grained data like social-economic data.  The s2 grid cell approache allows UFOKN to store both fine and selectively course relations.\n",
    "\n",
    "In this example we are generating level 13 grids, which are about 1km on a side (ref: https://s2geometry.io/resources/s2cell_statistics.html).  Typical UFOKN data would be at about 1 meter resolution of level 23 or so.   We can store both these values, allowing UFOKN to use them when appropriate.\n",
    "\n",
    "The more course level 13 data means we can reduce the unique cell count used to perform integration calls by about 40% in this case.  This number will vary of course based on the nature and location of impacted features in a forecast.  However, it does reflect an avenue for optimization.\n",
    "\n",
    "Further, the nature of discrete grids is such that is is easy to tell if a more fine grained cell ID is within a larger cell, so UFOKN may only need to store the level 23 cell ID for comparison with KWG level 13 social economic data.   \n",
    "\n",
    "Additionally, such cell values could be generated at the time of UFOKN forecast generation and placed into the parquet files.   At that point an \"integraton set\" with KWG could also be precomputed.  A sort of of \"look up table\" in the parquet format that UFOKN leverages extensively to holds links between UFOKN and KWG.\n",
    "\n",
    "These are all approaches to detail and document in furture work between UFOKN and KWG."
   ]
  },
  {
   "cell_type": "code",
   "execution_count": 34,
   "id": "c275371a-2a34-4624-93a5-6adba18ccfd1",
   "metadata": {
    "tags": []
   },
   "outputs": [
    {
     "name": "stdout",
     "output_type": "stream",
     "text": [
      "There are 43865 unique locations in the test set but at level 13 this reduces to 26702 or 0.61% if the original count\n"
     ]
    }
   ],
   "source": [
    "ug = dffq['geometry'].nunique()\n",
    "us = dffq['s2'].nunique()\n",
    "# unique_values = dffq['s2'].value_counts()\n",
    "# unique_values = unique_values.sort_values(ascending=False)\n",
    "# unique_values.head(10)\n",
    "\n",
    "print(\"There are {} unique locations in the test set but at level 13 this reduces to {} or {}% if the original count\".format(ug, us, round(us/ug, 2)))"
   ]
  },
  {
   "cell_type": "markdown",
   "id": "aee8a9d2-e997-458a-919a-d975d71d9fe1",
   "metadata": {
    "tags": []
   },
   "source": [
    "## Leverage KWG SPARQL for integration\n",
    "### Social Vulnerability Index\n",
    "\n",
    "The Social Vulnerability Index (SVI) is a tool that uses U.S. Census data to determine the social vulnerability of every county and tract. The SVI ranks each county and tract on 15 social factors, including poverty, lack of vehicle access, and crowded housing. The SVI values range between 0 and 1 based on their percentile position among all census tracts in the U.S., with 0 representing lowest vulnerability census tracts and 1 representing highest vulnerability census tracts.\n",
    "\n",
    "The __SVI helps local officials identify communities that may need support in preparing for hazards, or recovering from disaster__. Social vulnerability refers to the potential negative effects on communities caused by external stresses on human health, such as natural or human-caused disasters, or disease outbreaks. Reducing social vulnerability can decrease both human suffering and economic loss.\n",
    "\n",
    "Here we will leverage the S2 grid cells to conduct the query to KWG for SVI and incorporate that into our data workflow\n"
   ]
  },
  {
   "cell_type": "code",
   "execution_count": 2,
   "id": "af17da3b",
   "metadata": {
    "ExecuteTime": {
     "end_time": "2023-06-23T17:59:46.969062717Z",
     "start_time": "2023-06-23T17:59:46.928384698Z"
    },
    "collapsed": false,
    "jupyter": {
     "outputs_hidden": false
    },
    "tags": []
   },
   "outputs": [],
   "source": [
    "def get_svi_kwg(cellid):\n",
    "    \n",
    "    q = f\"\"\"PREFIX rdf: <http://www.w3.org/1999/02/22-rdf-syntax-ns#>\n",
    "PREFIX rdfs: <http://www.w3.org/2000/01/rdf-schema#>\n",
    "PREFIX xsd: <http://www.w3.org/2001/XMLSchema#>\n",
    "PREFIX kwg-ont: <http://stko-kwg.geog.ucsb.edu/lod/ontology/>\n",
    "PREFIX sosa: <http://www.w3.org/ns/sosa/>\n",
    "\n",
    "SELECT *\n",
    "\n",
    "WHERE {{\n",
    "    \t?svi_obs a kwg-ont:VulnerabilityObservation ;\n",
    "    \tsosa:hasFeatureOfInterest ?county ;\n",
    "     \tsosa:hasSimpleResult ?svi.\n",
    "    ?county kwg-ont:spatialRelation ?s2Cell. \n",
    "    ?s2Cell a kwg-ont:S2Cell.\n",
    "    ?s2Cell kwg-ont:hasID \"{cellid}\" .\n",
    "}}\"\"\"\n",
    "    \n",
    "    query = f\"\"\"\n",
    "    PREFIX kwg-ont: <http://stko-kwg.geog.ucsb.edu/lod/ontology/>\n",
    "    PREFIX sosa: <http://www.w3.org/ns/sosa/>\n",
    "    PREFIX kwgr: <http://stko-kwg.geog.ucsb.edu/lod/resource/>\n",
    "    select ?svi \n",
    "    where {{ \n",
    "        ?svi_obs a kwg-ont:VulnerabilityObservation ;\n",
    "            sosa:hasFeatureOfInterest ?county ;\n",
    "            sosa:hasSimpleResult ?svi .\n",
    "        ?county kwg-ont:spatialRelation kwgr:s2.level13.{cellid} .  \n",
    "    }} \"\"\"\n",
    "\n",
    "    # sparql = SPARQLWrapper(\"https://stko-kwg.geog.ucsb.edu/repositories/default\")\n",
    "    sparql = SPARQLWrapper(\"https://stko-kwg.geog.ucsb.edu/workbench/repositories/KWG\")\n",
    "    sparql.setQuery(q)\n",
    "    sparql.setReturnFormat(JSON)\n",
    "    result = sparql.query()\n",
    "\n",
    "    processed_results = json.load(result.response)\n",
    "    # cols = processed_results['head']['vars']\n",
    "    # value = processed_results['results']['bindings'][0]['svi']['value']\n",
    "\n",
    "    return processed_results\n"
   ]
  },
  {
   "cell_type": "code",
   "execution_count": 3,
   "id": "9e5ac217",
   "metadata": {
    "ExecuteTime": {
     "end_time": "2023-06-23T17:59:48.712034369Z",
     "start_time": "2023-06-23T17:59:48.213898719Z"
    },
    "collapsed": false,
    "jupyter": {
     "outputs_hidden": false
    },
    "tags": []
   },
   "outputs": [
    {
     "name": "stdout",
     "output_type": "stream",
     "text": [
      "{'head': {'vars': ['svi_obs', 'county', 'svi', 's2Cell']}, 'results': {'bindings': []}}\n",
      "{'head': {'vars': ['svi_obs', 'county', 'svi', 's2Cell']}, 'results': {'bindings': [{'svi_obs': {'type': 'uri', 'value': 'http://stko-kwg.geog.ucsb.edu/lod/resource/vulnerabilityIndexObservation.Wakulla.12129.2018.socialVulnerabilityIndex'}, 'county': {'type': 'uri', 'value': 'http://stko-kwg.geog.ucsb.edu/lod/resource/Earth.North_America.United_States.USA.10.65_1'}, 'svi': {'type': 'literal', 'value': '0.40'}, 's2Cell': {'type': 'uri', 'value': 'http://stko-kwg.geog.ucsb.edu/lod/resource/s2.level13.9866369615053979648'}}]}}\n",
      "{'head': {'vars': ['svi_obs', 'county', 'svi', 's2Cell']}, 'results': {'bindings': []}}\n"
     ]
    }
   ],
   "source": [
    "test = get_svi_kwg(\"4343222713859440640\")\n",
    "print(test)\n",
    "\n",
    "test = get_svi_kwg(\"9866369615053979648\")\n",
    "print(test)\n",
    "\n",
    "test = get_svi_kwg(\"8804765025035091968\")\n",
    "print(test)\n"
   ]
  },
  {
   "cell_type": "markdown",
   "id": "0bc91136",
   "metadata": {},
   "source": [
    "### State level (Ohio)\n",
    "\n",
    "As large scale CONUS level integration between UFOKN and KWG is yet to be addressed, we will use a more typical state level example here.  This is also a more likely senerio as well.  For this example we will use Ohio (fips code 39) and filter our data down.\n"
   ]
  },
  {
   "cell_type": "code",
   "execution_count": 50,
   "id": "028c0f67",
   "metadata": {
    "ExecuteTime": {
     "end_time": "2023-06-24T03:27:18.215012019Z",
     "start_time": "2023-06-24T03:27:18.174588544Z"
    },
    "collapsed": false,
    "jupyter": {
     "outputs_hidden": false
    },
    "tags": []
   },
   "outputs": [],
   "source": [
    "ohio = dffq[dffq['statefips'] == \"39\"].copy()\n",
    "# ohio.info()"
   ]
  },
  {
   "cell_type": "code",
   "execution_count": 51,
   "id": "aaca6a7d",
   "metadata": {
    "ExecuteTime": {
     "end_time": "2023-06-24T03:27:30.038183567Z",
     "start_time": "2023-06-24T03:27:18.968690957Z"
    },
    "collapsed": false,
    "jupyter": {
     "outputs_hidden": false
    },
    "tags": []
   },
   "outputs": [],
   "source": [
    "# ohio[\"s2vis\"] = ohio.apply(lambda row: get_svi_kwg(float(row[\"s2\"])), axis=1)\n",
    "ohio[\"s2vis\"] = ohio.apply(lambda row: get_svi_kwg(row[\"s2\"]), axis=1)\n"
   ]
  },
  {
   "cell_type": "code",
   "execution_count": 52,
   "id": "7ee420c0",
   "metadata": {
    "ExecuteTime": {
     "end_time": "2023-06-24T03:27:30.079106227Z",
     "start_time": "2023-06-24T03:27:30.078875883Z"
    },
    "collapsed": false,
    "jupyter": {
     "outputs_hidden": false
    },
    "tags": []
   },
   "outputs": [],
   "source": [
    "ohio.insert(0, \"url\", \"https://stko-kwg.geog.ucsb.edu/browse/#kwgr:s2.level13.9866369615053979648\")\n"
   ]
  },
  {
   "cell_type": "code",
   "execution_count": 53,
   "id": "25f73c2c",
   "metadata": {
    "ExecuteTime": {
     "end_time": "2023-06-24T03:27:30.079374902Z",
     "start_time": "2023-06-24T03:27:30.079017614Z"
    },
    "collapsed": false,
    "jupyter": {
     "outputs_hidden": false
    },
    "tags": []
   },
   "outputs": [
    {
     "data": {
      "text/html": [
       "<div>\n",
       "<style scoped>\n",
       "    .dataframe tbody tr th:only-of-type {\n",
       "        vertical-align: middle;\n",
       "    }\n",
       "\n",
       "    .dataframe tbody tr th {\n",
       "        vertical-align: top;\n",
       "    }\n",
       "\n",
       "    .dataframe thead th {\n",
       "        text-align: right;\n",
       "    }\n",
       "</style>\n",
       "<table border=\"1\" class=\"dataframe\">\n",
       "  <thead>\n",
       "    <tr style=\"text-align: right;\">\n",
       "      <th></th>\n",
       "      <th>url</th>\n",
       "      <th>statefips</th>\n",
       "      <th>tractfips</th>\n",
       "      <th>countyfips</th>\n",
       "      <th>dctype</th>\n",
       "      <th>feature</th>\n",
       "      <th>fmax</th>\n",
       "      <th>fmin</th>\n",
       "      <th>tstart</th>\n",
       "      <th>tmax</th>\n",
       "      <th>x</th>\n",
       "      <th>y</th>\n",
       "      <th>geometry</th>\n",
       "      <th>s2</th>\n",
       "      <th>s2vis</th>\n",
       "    </tr>\n",
       "  </thead>\n",
       "  <tbody>\n",
       "    <tr>\n",
       "      <th>8391</th>\n",
       "      <td>https://stko-kwg.geog.ucsb.edu/browse/#kwgr:s2...</td>\n",
       "      <td>39</td>\n",
       "      <td>39015951900</td>\n",
       "      <td>39015</td>\n",
       "      <td>building</td>\n",
       "      <td>urn:ufokn:id:feature:dnuk9w1ubyph</td>\n",
       "      <td>0.394</td>\n",
       "      <td>0.068</td>\n",
       "      <td>t_1</td>\n",
       "      <td>t_3</td>\n",
       "      <td>-83.9550745</td>\n",
       "      <td>38.79357300001023</td>\n",
       "      <td>POINT (-83.955 38.794)</td>\n",
       "      <td>5861739771801370624</td>\n",
       "      <td>{'head': {'vars': ['svi']}, 'results': {'bindi...</td>\n",
       "    </tr>\n",
       "    <tr>\n",
       "      <th>8402</th>\n",
       "      <td>https://stko-kwg.geog.ucsb.edu/browse/#kwgr:s2...</td>\n",
       "      <td>39</td>\n",
       "      <td>39015951800</td>\n",
       "      <td>39015</td>\n",
       "      <td>building</td>\n",
       "      <td>urn:ufokn:id:feature:dnuk9t04v7ff</td>\n",
       "      <td>0.361</td>\n",
       "      <td>0.021</td>\n",
       "      <td>t_2</td>\n",
       "      <td>t_5</td>\n",
       "      <td>-83.95729050000092</td>\n",
       "      <td>38.787723999995535</td>\n",
       "      <td>POINT (-83.957 38.788)</td>\n",
       "      <td>5861724000681459712</td>\n",
       "      <td>{'head': {'vars': ['svi']}, 'results': {'bindi...</td>\n",
       "    </tr>\n",
       "    <tr>\n",
       "      <th>8413</th>\n",
       "      <td>https://stko-kwg.geog.ucsb.edu/browse/#kwgr:s2...</td>\n",
       "      <td>39</td>\n",
       "      <td>39015951800</td>\n",
       "      <td>39015</td>\n",
       "      <td>building</td>\n",
       "      <td>urn:ufokn:id:feature:dnuk9t17hx8f</td>\n",
       "      <td>0.045</td>\n",
       "      <td>0.012</td>\n",
       "      <td>t_4</td>\n",
       "      <td>t_5</td>\n",
       "      <td>-83.9556085</td>\n",
       "      <td>38.787787000008976</td>\n",
       "      <td>POINT (-83.956 38.788)</td>\n",
       "      <td>5861720839585529856</td>\n",
       "      <td>{'head': {'vars': ['svi']}, 'results': {'bindi...</td>\n",
       "    </tr>\n",
       "    <tr>\n",
       "      <th>8424</th>\n",
       "      <td>https://stko-kwg.geog.ucsb.edu/browse/#kwgr:s2...</td>\n",
       "      <td>39</td>\n",
       "      <td>39015951800</td>\n",
       "      <td>39015</td>\n",
       "      <td>building</td>\n",
       "      <td>urn:ufokn:id:feature:dnuk9t9d6neb</td>\n",
       "      <td>2.359</td>\n",
       "      <td>1.01</td>\n",
       "      <td>t_1</td>\n",
       "      <td>t_5</td>\n",
       "      <td>-83.95536851196653</td>\n",
       "      <td>38.79039917439674</td>\n",
       "      <td>POINT (-83.955 38.790)</td>\n",
       "      <td>5861734274243231744</td>\n",
       "      <td>{'head': {'vars': ['svi']}, 'results': {'bindi...</td>\n",
       "    </tr>\n",
       "    <tr>\n",
       "      <th>8435</th>\n",
       "      <td>https://stko-kwg.geog.ucsb.edu/browse/#kwgr:s2...</td>\n",
       "      <td>39</td>\n",
       "      <td>39015951900</td>\n",
       "      <td>39015</td>\n",
       "      <td>building</td>\n",
       "      <td>urn:ufokn:id:feature:dnuk9mpm29fn</td>\n",
       "      <td>1.35</td>\n",
       "      <td>0.001</td>\n",
       "      <td>t_1</td>\n",
       "      <td>t_5</td>\n",
       "      <td>-83.95852505931715</td>\n",
       "      <td>38.78814321962969</td>\n",
       "      <td>POINT (-83.959 38.788)</td>\n",
       "      <td>5861723279126953984</td>\n",
       "      <td>{'head': {'vars': ['svi']}, 'results': {'bindi...</td>\n",
       "    </tr>\n",
       "  </tbody>\n",
       "</table>\n",
       "</div>"
      ],
      "text/plain": [
       "                                                    url statefips  \\\n",
       "8391  https://stko-kwg.geog.ucsb.edu/browse/#kwgr:s2...        39   \n",
       "8402  https://stko-kwg.geog.ucsb.edu/browse/#kwgr:s2...        39   \n",
       "8413  https://stko-kwg.geog.ucsb.edu/browse/#kwgr:s2...        39   \n",
       "8424  https://stko-kwg.geog.ucsb.edu/browse/#kwgr:s2...        39   \n",
       "8435  https://stko-kwg.geog.ucsb.edu/browse/#kwgr:s2...        39   \n",
       "\n",
       "        tractfips countyfips    dctype                            feature  \\\n",
       "8391  39015951900      39015  building  urn:ufokn:id:feature:dnuk9w1ubyph   \n",
       "8402  39015951800      39015  building  urn:ufokn:id:feature:dnuk9t04v7ff   \n",
       "8413  39015951800      39015  building  urn:ufokn:id:feature:dnuk9t17hx8f   \n",
       "8424  39015951800      39015  building  urn:ufokn:id:feature:dnuk9t9d6neb   \n",
       "8435  39015951900      39015  building  urn:ufokn:id:feature:dnuk9mpm29fn   \n",
       "\n",
       "       fmax   fmin tstart tmax                   x                   y  \\\n",
       "8391  0.394  0.068    t_1  t_3         -83.9550745   38.79357300001023   \n",
       "8402  0.361  0.021    t_2  t_5  -83.95729050000092  38.787723999995535   \n",
       "8413  0.045  0.012    t_4  t_5         -83.9556085  38.787787000008976   \n",
       "8424  2.359   1.01    t_1  t_5  -83.95536851196653   38.79039917439674   \n",
       "8435   1.35  0.001    t_1  t_5  -83.95852505931715   38.78814321962969   \n",
       "\n",
       "                    geometry                   s2  \\\n",
       "8391  POINT (-83.955 38.794)  5861739771801370624   \n",
       "8402  POINT (-83.957 38.788)  5861724000681459712   \n",
       "8413  POINT (-83.956 38.788)  5861720839585529856   \n",
       "8424  POINT (-83.955 38.790)  5861734274243231744   \n",
       "8435  POINT (-83.959 38.788)  5861723279126953984   \n",
       "\n",
       "                                                  s2vis  \n",
       "8391  {'head': {'vars': ['svi']}, 'results': {'bindi...  \n",
       "8402  {'head': {'vars': ['svi']}, 'results': {'bindi...  \n",
       "8413  {'head': {'vars': ['svi']}, 'results': {'bindi...  \n",
       "8424  {'head': {'vars': ['svi']}, 'results': {'bindi...  \n",
       "8435  {'head': {'vars': ['svi']}, 'results': {'bindi...  "
      ]
     },
     "execution_count": 53,
     "metadata": {},
     "output_type": "execute_result"
    }
   ],
   "source": [
    "ohio.head(5)"
   ]
  },
  {
   "cell_type": "code",
   "execution_count": 38,
   "id": "9574f9a0",
   "metadata": {
    "ExecuteTime": {
     "end_time": "2023-06-24T03:27:33.677278581Z",
     "start_time": "2023-06-24T03:27:33.669705245Z"
    },
    "collapsed": false,
    "jupyter": {
     "outputs_hidden": false
    },
    "tags": []
   },
   "outputs": [],
   "source": [
    "# for Jupyter we will again make GeoPandas, but this step is not really needed for KWG <-> UFOKN integration untill we want to map the data using \n",
    "# geometry data\n",
    "gohio = geopandas.GeoDataFrame(ohio, geometry=geopandas.points_from_xy(ohio[\"x\"], ohio[\"y\"]), crs=3857)\n",
    "gohio = gohio.reset_index(drop=True)\n",
    "gohio.to_csv('ohio.csv', index=False)"
   ]
  },
  {
   "cell_type": "code",
   "execution_count": 39,
   "id": "ae82a0c5",
   "metadata": {
    "ExecuteTime": {
     "end_time": "2023-06-24T03:30:02.322123832Z",
     "start_time": "2023-06-24T03:30:02.279825465Z"
    },
    "collapsed": false,
    "jupyter": {
     "outputs_hidden": false
    },
    "tags": []
   },
   "outputs": [
    {
     "data": {
      "text/html": [
       "<div style=\"width:100%;\"><div style=\"position:relative;width:100%;height:0;padding-bottom:60%;\"><span style=\"color:#565656\">Make this Notebook Trusted to load map: File -> Trust Notebook</span><iframe src=\"about:blank\" style=\"position:absolute;width:100%;height:100%;left:0;top:0;border:none !important;\" data-html=%3C%21DOCTYPE%20html%3E%0A%3Chead%3E%20%20%20%20%0A%20%20%20%20%3Cmeta%20http-equiv%3D%22content-type%22%20content%3D%22text/html%3B%20charset%3DUTF-8%22%20/%3E%0A%20%20%20%20%0A%20%20%20%20%20%20%20%20%3Cscript%3E%0A%20%20%20%20%20%20%20%20%20%20%20%20L_NO_TOUCH%20%3D%20false%3B%0A%20%20%20%20%20%20%20%20%20%20%20%20L_DISABLE_3D%20%3D%20false%3B%0A%20%20%20%20%20%20%20%20%3C/script%3E%0A%20%20%20%20%0A%20%20%20%20%3Cstyle%3Ehtml%2C%20body%20%7Bwidth%3A%20100%25%3Bheight%3A%20100%25%3Bmargin%3A%200%3Bpadding%3A%200%3B%7D%3C/style%3E%0A%20%20%20%20%3Cstyle%3E%23map%20%7Bposition%3Aabsolute%3Btop%3A0%3Bbottom%3A0%3Bright%3A0%3Bleft%3A0%3B%7D%3C/style%3E%0A%20%20%20%20%3Cscript%20src%3D%22https%3A//cdn.jsdelivr.net/npm/leaflet%401.6.0/dist/leaflet.js%22%3E%3C/script%3E%0A%20%20%20%20%3Cscript%20src%3D%22https%3A//code.jquery.com/jquery-1.12.4.min.js%22%3E%3C/script%3E%0A%20%20%20%20%3Cscript%20src%3D%22https%3A//maxcdn.bootstrapcdn.com/bootstrap/3.2.0/js/bootstrap.min.js%22%3E%3C/script%3E%0A%20%20%20%20%3Cscript%20src%3D%22https%3A//cdnjs.cloudflare.com/ajax/libs/Leaflet.awesome-markers/2.0.2/leaflet.awesome-markers.js%22%3E%3C/script%3E%0A%20%20%20%20%3Clink%20rel%3D%22stylesheet%22%20href%3D%22https%3A//cdn.jsdelivr.net/npm/leaflet%401.6.0/dist/leaflet.css%22/%3E%0A%20%20%20%20%3Clink%20rel%3D%22stylesheet%22%20href%3D%22https%3A//maxcdn.bootstrapcdn.com/bootstrap/3.2.0/css/bootstrap.min.css%22/%3E%0A%20%20%20%20%3Clink%20rel%3D%22stylesheet%22%20href%3D%22https%3A//maxcdn.bootstrapcdn.com/bootstrap/3.2.0/css/bootstrap-theme.min.css%22/%3E%0A%20%20%20%20%3Clink%20rel%3D%22stylesheet%22%20href%3D%22https%3A//maxcdn.bootstrapcdn.com/font-awesome/4.6.3/css/font-awesome.min.css%22/%3E%0A%20%20%20%20%3Clink%20rel%3D%22stylesheet%22%20href%3D%22https%3A//cdnjs.cloudflare.com/ajax/libs/Leaflet.awesome-markers/2.0.2/leaflet.awesome-markers.css%22/%3E%0A%20%20%20%20%3Clink%20rel%3D%22stylesheet%22%20href%3D%22https%3A//cdn.jsdelivr.net/gh/python-visualization/folium/folium/templates/leaflet.awesome.rotate.min.css%22/%3E%0A%20%20%20%20%0A%20%20%20%20%20%20%20%20%20%20%20%20%3Cmeta%20name%3D%22viewport%22%20content%3D%22width%3Ddevice-width%2C%0A%20%20%20%20%20%20%20%20%20%20%20%20%20%20%20%20initial-scale%3D1.0%2C%20maximum-scale%3D1.0%2C%20user-scalable%3Dno%22%20/%3E%0A%20%20%20%20%20%20%20%20%20%20%20%20%3Cstyle%3E%0A%20%20%20%20%20%20%20%20%20%20%20%20%20%20%20%20%23map_3a928edcdde740abb8f271b483450b91%20%7B%0A%20%20%20%20%20%20%20%20%20%20%20%20%20%20%20%20%20%20%20%20position%3A%20relative%3B%0A%20%20%20%20%20%20%20%20%20%20%20%20%20%20%20%20%20%20%20%20width%3A%20100.0%25%3B%0A%20%20%20%20%20%20%20%20%20%20%20%20%20%20%20%20%20%20%20%20height%3A%20100.0%25%3B%0A%20%20%20%20%20%20%20%20%20%20%20%20%20%20%20%20%20%20%20%20left%3A%200.0%25%3B%0A%20%20%20%20%20%20%20%20%20%20%20%20%20%20%20%20%20%20%20%20top%3A%200.0%25%3B%0A%20%20%20%20%20%20%20%20%20%20%20%20%20%20%20%20%7D%0A%20%20%20%20%20%20%20%20%20%20%20%20%3C/style%3E%0A%20%20%20%20%20%20%20%20%0A%3C/head%3E%0A%3Cbody%3E%20%20%20%20%0A%20%20%20%20%0A%20%20%20%20%20%20%20%20%20%20%20%20%3Cdiv%20class%3D%22folium-map%22%20id%3D%22map_3a928edcdde740abb8f271b483450b91%22%20%3E%3C/div%3E%0A%20%20%20%20%20%20%20%20%0A%3C/body%3E%0A%3Cscript%3E%20%20%20%20%0A%20%20%20%20%0A%20%20%20%20%20%20%20%20%20%20%20%20var%20map_3a928edcdde740abb8f271b483450b91%20%3D%20L.map%28%0A%20%20%20%20%20%20%20%20%20%20%20%20%20%20%20%20%22map_3a928edcdde740abb8f271b483450b91%22%2C%0A%20%20%20%20%20%20%20%20%20%20%20%20%20%20%20%20%7B%0A%20%20%20%20%20%20%20%20%20%20%20%20%20%20%20%20%20%20%20%20center%3A%20%5B39.9612%2C%20-82.9988%5D%2C%0A%20%20%20%20%20%20%20%20%20%20%20%20%20%20%20%20%20%20%20%20crs%3A%20L.CRS.EPSG3857%2C%0A%20%20%20%20%20%20%20%20%20%20%20%20%20%20%20%20%20%20%20%20zoom%3A%207%2C%0A%20%20%20%20%20%20%20%20%20%20%20%20%20%20%20%20%20%20%20%20zoomControl%3A%20true%2C%0A%20%20%20%20%20%20%20%20%20%20%20%20%20%20%20%20%20%20%20%20preferCanvas%3A%20false%2C%0A%20%20%20%20%20%20%20%20%20%20%20%20%20%20%20%20%7D%0A%20%20%20%20%20%20%20%20%20%20%20%20%29%3B%0A%0A%20%20%20%20%20%20%20%20%20%20%20%20%0A%0A%20%20%20%20%20%20%20%20%0A%20%20%20%20%0A%20%20%20%20%20%20%20%20%20%20%20%20var%20tile_layer_313b492d224440c2abc08e2fcf5cc6ad%20%3D%20L.tileLayer%28%0A%20%20%20%20%20%20%20%20%20%20%20%20%20%20%20%20%22https%3A//%7Bs%7D.tile.openstreetmap.org/%7Bz%7D/%7Bx%7D/%7By%7D.png%22%2C%0A%20%20%20%20%20%20%20%20%20%20%20%20%20%20%20%20%7B%22attribution%22%3A%20%22Data%20by%20%5Cu0026copy%3B%20%5Cu003ca%20href%3D%5C%22http%3A//openstreetmap.org%5C%22%5Cu003eOpenStreetMap%5Cu003c/a%5Cu003e%2C%20under%20%5Cu003ca%20href%3D%5C%22http%3A//www.openstreetmap.org/copyright%5C%22%5Cu003eODbL%5Cu003c/a%5Cu003e.%22%2C%20%22detectRetina%22%3A%20false%2C%20%22maxNativeZoom%22%3A%2018%2C%20%22maxZoom%22%3A%2018%2C%20%22minZoom%22%3A%200%2C%20%22noWrap%22%3A%20false%2C%20%22opacity%22%3A%201%2C%20%22subdomains%22%3A%20%22abc%22%2C%20%22tms%22%3A%20false%7D%0A%20%20%20%20%20%20%20%20%20%20%20%20%29.addTo%28map_3a928edcdde740abb8f271b483450b91%29%3B%0A%20%20%20%20%20%20%20%20%0A%20%20%20%20%0A%20%20%20%20%20%20%20%20%20%20%20%20var%20marker_7132efa7f8294fe0807053930c3bd621%20%3D%20L.marker%28%0A%20%20%20%20%20%20%20%20%20%20%20%20%20%20%20%20%5B38.79357300001023%2C%20-83.9550745%5D%2C%0A%20%20%20%20%20%20%20%20%20%20%20%20%20%20%20%20%7B%7D%0A%20%20%20%20%20%20%20%20%20%20%20%20%29.addTo%28map_3a928edcdde740abb8f271b483450b91%29%3B%0A%20%20%20%20%20%20%20%20%0A%20%20%20%20%0A%20%20%20%20%20%20%20%20var%20popup_d04ccd1decf94370b3eb23e2e0089e02%20%3D%20L.popup%28%7B%22maxWidth%22%3A%20%22100%25%22%7D%29%3B%0A%0A%20%20%20%20%20%20%20%20%0A%20%20%20%20%20%20%20%20%20%20%20%20var%20html_86a415dec53a46a195aefdbced233603%20%3D%20%24%28%60%3Cdiv%20id%3D%22html_86a415dec53a46a195aefdbced233603%22%20style%3D%22width%3A%20100.0%25%3B%20height%3A%20100.0%25%3B%22%3E%3Ca%20href%3D%22https%3A//stko-kwg.geog.ucsb.edu/browse/%23kwgr%3As2.level13.9866369615053979648%22%3ESIV%20%3D%203.4%20%3C/a%3E%3C/div%3E%60%29%5B0%5D%3B%0A%20%20%20%20%20%20%20%20%20%20%20%20popup_d04ccd1decf94370b3eb23e2e0089e02.setContent%28html_86a415dec53a46a195aefdbced233603%29%3B%0A%20%20%20%20%20%20%20%20%0A%0A%20%20%20%20%20%20%20%20marker_7132efa7f8294fe0807053930c3bd621.bindPopup%28popup_d04ccd1decf94370b3eb23e2e0089e02%29%0A%20%20%20%20%20%20%20%20%3B%0A%0A%20%20%20%20%20%20%20%20%0A%20%20%20%20%0A%20%20%20%20%0A%20%20%20%20%20%20%20%20%20%20%20%20var%20marker_3fdbefbabfc94f518b0fa10cad81bc70%20%3D%20L.marker%28%0A%20%20%20%20%20%20%20%20%20%20%20%20%20%20%20%20%5B38.787723999995535%2C%20-83.95729050000092%5D%2C%0A%20%20%20%20%20%20%20%20%20%20%20%20%20%20%20%20%7B%7D%0A%20%20%20%20%20%20%20%20%20%20%20%20%29.addTo%28map_3a928edcdde740abb8f271b483450b91%29%3B%0A%20%20%20%20%20%20%20%20%0A%20%20%20%20%0A%20%20%20%20%20%20%20%20var%20popup_86a8fc0accc64eaeaca332ffc6808204%20%3D%20L.popup%28%7B%22maxWidth%22%3A%20%22100%25%22%7D%29%3B%0A%0A%20%20%20%20%20%20%20%20%0A%20%20%20%20%20%20%20%20%20%20%20%20var%20html_00e2e562bc7a44988237948f105c3281%20%3D%20%24%28%60%3Cdiv%20id%3D%22html_00e2e562bc7a44988237948f105c3281%22%20style%3D%22width%3A%20100.0%25%3B%20height%3A%20100.0%25%3B%22%3E%3Ca%20href%3D%22https%3A//stko-kwg.geog.ucsb.edu/browse/%23kwgr%3As2.level13.9866369615053979648%22%3ESIV%20%3D%203.4%20%3C/a%3E%3C/div%3E%60%29%5B0%5D%3B%0A%20%20%20%20%20%20%20%20%20%20%20%20popup_86a8fc0accc64eaeaca332ffc6808204.setContent%28html_00e2e562bc7a44988237948f105c3281%29%3B%0A%20%20%20%20%20%20%20%20%0A%0A%20%20%20%20%20%20%20%20marker_3fdbefbabfc94f518b0fa10cad81bc70.bindPopup%28popup_86a8fc0accc64eaeaca332ffc6808204%29%0A%20%20%20%20%20%20%20%20%3B%0A%0A%20%20%20%20%20%20%20%20%0A%20%20%20%20%0A%20%20%20%20%0A%20%20%20%20%20%20%20%20%20%20%20%20var%20marker_80159f8238574a5388f815120313972a%20%3D%20L.marker%28%0A%20%20%20%20%20%20%20%20%20%20%20%20%20%20%20%20%5B38.787787000008976%2C%20-83.9556085%5D%2C%0A%20%20%20%20%20%20%20%20%20%20%20%20%20%20%20%20%7B%7D%0A%20%20%20%20%20%20%20%20%20%20%20%20%29.addTo%28map_3a928edcdde740abb8f271b483450b91%29%3B%0A%20%20%20%20%20%20%20%20%0A%20%20%20%20%0A%20%20%20%20%20%20%20%20var%20popup_6e5d3177635149d0933d164f370ec1c8%20%3D%20L.popup%28%7B%22maxWidth%22%3A%20%22100%25%22%7D%29%3B%0A%0A%20%20%20%20%20%20%20%20%0A%20%20%20%20%20%20%20%20%20%20%20%20var%20html_9c7721e60f9d410bb8ffb4990572ebc3%20%3D%20%24%28%60%3Cdiv%20id%3D%22html_9c7721e60f9d410bb8ffb4990572ebc3%22%20style%3D%22width%3A%20100.0%25%3B%20height%3A%20100.0%25%3B%22%3E%3Ca%20href%3D%22https%3A//stko-kwg.geog.ucsb.edu/browse/%23kwgr%3As2.level13.9866369615053979648%22%3ESIV%20%3D%203.4%20%3C/a%3E%3C/div%3E%60%29%5B0%5D%3B%0A%20%20%20%20%20%20%20%20%20%20%20%20popup_6e5d3177635149d0933d164f370ec1c8.setContent%28html_9c7721e60f9d410bb8ffb4990572ebc3%29%3B%0A%20%20%20%20%20%20%20%20%0A%0A%20%20%20%20%20%20%20%20marker_80159f8238574a5388f815120313972a.bindPopup%28popup_6e5d3177635149d0933d164f370ec1c8%29%0A%20%20%20%20%20%20%20%20%3B%0A%0A%20%20%20%20%20%20%20%20%0A%20%20%20%20%0A%20%20%20%20%0A%20%20%20%20%20%20%20%20%20%20%20%20var%20marker_ab9c08d41d584534909bf5a9d40c74a0%20%3D%20L.marker%28%0A%20%20%20%20%20%20%20%20%20%20%20%20%20%20%20%20%5B38.79039917439674%2C%20-83.95536851196653%5D%2C%0A%20%20%20%20%20%20%20%20%20%20%20%20%20%20%20%20%7B%7D%0A%20%20%20%20%20%20%20%20%20%20%20%20%29.addTo%28map_3a928edcdde740abb8f271b483450b91%29%3B%0A%20%20%20%20%20%20%20%20%0A%20%20%20%20%0A%20%20%20%20%20%20%20%20var%20popup_90029045470842b8b06a4cacc365812b%20%3D%20L.popup%28%7B%22maxWidth%22%3A%20%22100%25%22%7D%29%3B%0A%0A%20%20%20%20%20%20%20%20%0A%20%20%20%20%20%20%20%20%20%20%20%20var%20html_4cc211622faa404f9db9ab6a332a8521%20%3D%20%24%28%60%3Cdiv%20id%3D%22html_4cc211622faa404f9db9ab6a332a8521%22%20style%3D%22width%3A%20100.0%25%3B%20height%3A%20100.0%25%3B%22%3E%3Ca%20href%3D%22https%3A//stko-kwg.geog.ucsb.edu/browse/%23kwgr%3As2.level13.9866369615053979648%22%3ESIV%20%3D%203.4%20%3C/a%3E%3C/div%3E%60%29%5B0%5D%3B%0A%20%20%20%20%20%20%20%20%20%20%20%20popup_90029045470842b8b06a4cacc365812b.setContent%28html_4cc211622faa404f9db9ab6a332a8521%29%3B%0A%20%20%20%20%20%20%20%20%0A%0A%20%20%20%20%20%20%20%20marker_ab9c08d41d584534909bf5a9d40c74a0.bindPopup%28popup_90029045470842b8b06a4cacc365812b%29%0A%20%20%20%20%20%20%20%20%3B%0A%0A%20%20%20%20%20%20%20%20%0A%20%20%20%20%0A%20%20%20%20%0A%20%20%20%20%20%20%20%20%20%20%20%20var%20marker_06aefa80e6024d338b070ffa23afafb6%20%3D%20L.marker%28%0A%20%20%20%20%20%20%20%20%20%20%20%20%20%20%20%20%5B38.78814321962969%2C%20-83.95852505931715%5D%2C%0A%20%20%20%20%20%20%20%20%20%20%20%20%20%20%20%20%7B%7D%0A%20%20%20%20%20%20%20%20%20%20%20%20%29.addTo%28map_3a928edcdde740abb8f271b483450b91%29%3B%0A%20%20%20%20%20%20%20%20%0A%20%20%20%20%0A%20%20%20%20%20%20%20%20var%20popup_fe180790821a473cb516c6b690163876%20%3D%20L.popup%28%7B%22maxWidth%22%3A%20%22100%25%22%7D%29%3B%0A%0A%20%20%20%20%20%20%20%20%0A%20%20%20%20%20%20%20%20%20%20%20%20var%20html_8808d1b4db48404bad2bf89221edfcf2%20%3D%20%24%28%60%3Cdiv%20id%3D%22html_8808d1b4db48404bad2bf89221edfcf2%22%20style%3D%22width%3A%20100.0%25%3B%20height%3A%20100.0%25%3B%22%3E%3Ca%20href%3D%22https%3A//stko-kwg.geog.ucsb.edu/browse/%23kwgr%3As2.level13.9866369615053979648%22%3ESIV%20%3D%203.4%20%3C/a%3E%3C/div%3E%60%29%5B0%5D%3B%0A%20%20%20%20%20%20%20%20%20%20%20%20popup_fe180790821a473cb516c6b690163876.setContent%28html_8808d1b4db48404bad2bf89221edfcf2%29%3B%0A%20%20%20%20%20%20%20%20%0A%0A%20%20%20%20%20%20%20%20marker_06aefa80e6024d338b070ffa23afafb6.bindPopup%28popup_fe180790821a473cb516c6b690163876%29%0A%20%20%20%20%20%20%20%20%3B%0A%0A%20%20%20%20%20%20%20%20%0A%20%20%20%20%0A%20%20%20%20%0A%20%20%20%20%20%20%20%20%20%20%20%20var%20marker_3e675c31ad724331b01e436523f02b60%20%3D%20L.marker%28%0A%20%20%20%20%20%20%20%20%20%20%20%20%20%20%20%20%5B38.789097087708456%2C%20-83.95387419480014%5D%2C%0A%20%20%20%20%20%20%20%20%20%20%20%20%20%20%20%20%7B%7D%0A%20%20%20%20%20%20%20%20%20%20%20%20%29.addTo%28map_3a928edcdde740abb8f271b483450b91%29%3B%0A%20%20%20%20%20%20%20%20%0A%20%20%20%20%0A%20%20%20%20%20%20%20%20var%20popup_47f787209eda4b0fa7178a41b70d255a%20%3D%20L.popup%28%7B%22maxWidth%22%3A%20%22100%25%22%7D%29%3B%0A%0A%20%20%20%20%20%20%20%20%0A%20%20%20%20%20%20%20%20%20%20%20%20var%20html_b8c3fbea5f7f46dea3f5508f2becfbc5%20%3D%20%24%28%60%3Cdiv%20id%3D%22html_b8c3fbea5f7f46dea3f5508f2becfbc5%22%20style%3D%22width%3A%20100.0%25%3B%20height%3A%20100.0%25%3B%22%3E%3Ca%20href%3D%22https%3A//stko-kwg.geog.ucsb.edu/browse/%23kwgr%3As2.level13.9866369615053979648%22%3ESIV%20%3D%203.4%20%3C/a%3E%3C/div%3E%60%29%5B0%5D%3B%0A%20%20%20%20%20%20%20%20%20%20%20%20popup_47f787209eda4b0fa7178a41b70d255a.setContent%28html_b8c3fbea5f7f46dea3f5508f2becfbc5%29%3B%0A%20%20%20%20%20%20%20%20%0A%0A%20%20%20%20%20%20%20%20marker_3e675c31ad724331b01e436523f02b60.bindPopup%28popup_47f787209eda4b0fa7178a41b70d255a%29%0A%20%20%20%20%20%20%20%20%3B%0A%0A%20%20%20%20%20%20%20%20%0A%20%20%20%20%0A%20%20%20%20%0A%20%20%20%20%20%20%20%20%20%20%20%20var%20marker_a71fab6ff04b4816a965e258cd42df9d%20%3D%20L.marker%28%0A%20%20%20%20%20%20%20%20%20%20%20%20%20%20%20%20%5B38.78879120004911%2C%20-83.95433909808214%5D%2C%0A%20%20%20%20%20%20%20%20%20%20%20%20%20%20%20%20%7B%7D%0A%20%20%20%20%20%20%20%20%20%20%20%20%29.addTo%28map_3a928edcdde740abb8f271b483450b91%29%3B%0A%20%20%20%20%20%20%20%20%0A%20%20%20%20%0A%20%20%20%20%20%20%20%20var%20popup_8e14d5569b24420e9c195550849f4022%20%3D%20L.popup%28%7B%22maxWidth%22%3A%20%22100%25%22%7D%29%3B%0A%0A%20%20%20%20%20%20%20%20%0A%20%20%20%20%20%20%20%20%20%20%20%20var%20html_5eccb93d6d1c409ba987f2ecab95c758%20%3D%20%24%28%60%3Cdiv%20id%3D%22html_5eccb93d6d1c409ba987f2ecab95c758%22%20style%3D%22width%3A%20100.0%25%3B%20height%3A%20100.0%25%3B%22%3E%3Ca%20href%3D%22https%3A//stko-kwg.geog.ucsb.edu/browse/%23kwgr%3As2.level13.9866369615053979648%22%3ESIV%20%3D%203.4%20%3C/a%3E%3C/div%3E%60%29%5B0%5D%3B%0A%20%20%20%20%20%20%20%20%20%20%20%20popup_8e14d5569b24420e9c195550849f4022.setContent%28html_5eccb93d6d1c409ba987f2ecab95c758%29%3B%0A%20%20%20%20%20%20%20%20%0A%0A%20%20%20%20%20%20%20%20marker_a71fab6ff04b4816a965e258cd42df9d.bindPopup%28popup_8e14d5569b24420e9c195550849f4022%29%0A%20%20%20%20%20%20%20%20%3B%0A%0A%20%20%20%20%20%20%20%20%0A%20%20%20%20%0A%20%20%20%20%0A%20%20%20%20%20%20%20%20%20%20%20%20var%20marker_db2b88847ca34c158f80b3930ba6994a%20%3D%20L.marker%28%0A%20%20%20%20%20%20%20%20%20%20%20%20%20%20%20%20%5B38.79266102069041%2C%20-83.95458683215514%5D%2C%0A%20%20%20%20%20%20%20%20%20%20%20%20%20%20%20%20%7B%7D%0A%20%20%20%20%20%20%20%20%20%20%20%20%29.addTo%28map_3a928edcdde740abb8f271b483450b91%29%3B%0A%20%20%20%20%20%20%20%20%0A%20%20%20%20%0A%20%20%20%20%20%20%20%20var%20popup_82ee6f9a8fbf4d73af66b701fce0c7a4%20%3D%20L.popup%28%7B%22maxWidth%22%3A%20%22100%25%22%7D%29%3B%0A%0A%20%20%20%20%20%20%20%20%0A%20%20%20%20%20%20%20%20%20%20%20%20var%20html_7c7958b5a3034936be983398b6ecf504%20%3D%20%24%28%60%3Cdiv%20id%3D%22html_7c7958b5a3034936be983398b6ecf504%22%20style%3D%22width%3A%20100.0%25%3B%20height%3A%20100.0%25%3B%22%3E%3Ca%20href%3D%22https%3A//stko-kwg.geog.ucsb.edu/browse/%23kwgr%3As2.level13.9866369615053979648%22%3ESIV%20%3D%203.4%20%3C/a%3E%3C/div%3E%60%29%5B0%5D%3B%0A%20%20%20%20%20%20%20%20%20%20%20%20popup_82ee6f9a8fbf4d73af66b701fce0c7a4.setContent%28html_7c7958b5a3034936be983398b6ecf504%29%3B%0A%20%20%20%20%20%20%20%20%0A%0A%20%20%20%20%20%20%20%20marker_db2b88847ca34c158f80b3930ba6994a.bindPopup%28popup_82ee6f9a8fbf4d73af66b701fce0c7a4%29%0A%20%20%20%20%20%20%20%20%3B%0A%0A%20%20%20%20%20%20%20%20%0A%20%20%20%20%0A%20%20%20%20%0A%20%20%20%20%20%20%20%20%20%20%20%20var%20marker_cbbea08c28c24a3e9513a375cc615588%20%3D%20L.marker%28%0A%20%20%20%20%20%20%20%20%20%20%20%20%20%20%20%20%5B38.79292280179624%2C%20-83.95479909865787%5D%2C%0A%20%20%20%20%20%20%20%20%20%20%20%20%20%20%20%20%7B%7D%0A%20%20%20%20%20%20%20%20%20%20%20%20%29.addTo%28map_3a928edcdde740abb8f271b483450b91%29%3B%0A%20%20%20%20%20%20%20%20%0A%20%20%20%20%0A%20%20%20%20%20%20%20%20var%20popup_181132423c76496abe84f08daa5a8606%20%3D%20L.popup%28%7B%22maxWidth%22%3A%20%22100%25%22%7D%29%3B%0A%0A%20%20%20%20%20%20%20%20%0A%20%20%20%20%20%20%20%20%20%20%20%20var%20html_f21bcaf4267d4059a29c82a8c80ed2aa%20%3D%20%24%28%60%3Cdiv%20id%3D%22html_f21bcaf4267d4059a29c82a8c80ed2aa%22%20style%3D%22width%3A%20100.0%25%3B%20height%3A%20100.0%25%3B%22%3E%3Ca%20href%3D%22https%3A//stko-kwg.geog.ucsb.edu/browse/%23kwgr%3As2.level13.9866369615053979648%22%3ESIV%20%3D%203.4%20%3C/a%3E%3C/div%3E%60%29%5B0%5D%3B%0A%20%20%20%20%20%20%20%20%20%20%20%20popup_181132423c76496abe84f08daa5a8606.setContent%28html_f21bcaf4267d4059a29c82a8c80ed2aa%29%3B%0A%20%20%20%20%20%20%20%20%0A%0A%20%20%20%20%20%20%20%20marker_cbbea08c28c24a3e9513a375cc615588.bindPopup%28popup_181132423c76496abe84f08daa5a8606%29%0A%20%20%20%20%20%20%20%20%3B%0A%0A%20%20%20%20%20%20%20%20%0A%20%20%20%20%0A%20%20%20%20%0A%20%20%20%20%20%20%20%20%20%20%20%20var%20marker_560e0c5aea824595b9271671c70a6d24%20%3D%20L.marker%28%0A%20%20%20%20%20%20%20%20%20%20%20%20%20%20%20%20%5B38.79285050000678%2C%20-83.95492450000003%5D%2C%0A%20%20%20%20%20%20%20%20%20%20%20%20%20%20%20%20%7B%7D%0A%20%20%20%20%20%20%20%20%20%20%20%20%29.addTo%28map_3a928edcdde740abb8f271b483450b91%29%3B%0A%20%20%20%20%20%20%20%20%0A%20%20%20%20%0A%20%20%20%20%20%20%20%20var%20popup_c635800ae66442859afb5de44f661460%20%3D%20L.popup%28%7B%22maxWidth%22%3A%20%22100%25%22%7D%29%3B%0A%0A%20%20%20%20%20%20%20%20%0A%20%20%20%20%20%20%20%20%20%20%20%20var%20html_6321a88b1f3143339e71860d50f63ad1%20%3D%20%24%28%60%3Cdiv%20id%3D%22html_6321a88b1f3143339e71860d50f63ad1%22%20style%3D%22width%3A%20100.0%25%3B%20height%3A%20100.0%25%3B%22%3E%3Ca%20href%3D%22https%3A//stko-kwg.geog.ucsb.edu/browse/%23kwgr%3As2.level13.9866369615053979648%22%3ESIV%20%3D%203.4%20%3C/a%3E%3C/div%3E%60%29%5B0%5D%3B%0A%20%20%20%20%20%20%20%20%20%20%20%20popup_c635800ae66442859afb5de44f661460.setContent%28html_6321a88b1f3143339e71860d50f63ad1%29%3B%0A%20%20%20%20%20%20%20%20%0A%0A%20%20%20%20%20%20%20%20marker_560e0c5aea824595b9271671c70a6d24.bindPopup%28popup_c635800ae66442859afb5de44f661460%29%0A%20%20%20%20%20%20%20%20%3B%0A%0A%20%20%20%20%20%20%20%20%0A%20%20%20%20%0A%20%20%20%20%0A%20%20%20%20%20%20%20%20%20%20%20%20var%20marker_4f1b0b485a1949259f148d070b0a96ff%20%3D%20L.marker%28%0A%20%20%20%20%20%20%20%20%20%20%20%20%20%20%20%20%5B38.79315500000348%2C%20-83.95618200001775%5D%2C%0A%20%20%20%20%20%20%20%20%20%20%20%20%20%20%20%20%7B%7D%0A%20%20%20%20%20%20%20%20%20%20%20%20%29.addTo%28map_3a928edcdde740abb8f271b483450b91%29%3B%0A%20%20%20%20%20%20%20%20%0A%20%20%20%20%0A%20%20%20%20%20%20%20%20var%20popup_23186dedf381480b9cb1277fa5a9cdcb%20%3D%20L.popup%28%7B%22maxWidth%22%3A%20%22100%25%22%7D%29%3B%0A%0A%20%20%20%20%20%20%20%20%0A%20%20%20%20%20%20%20%20%20%20%20%20var%20html_7d7a4fd69cda4a98b0d5da44e9067ad5%20%3D%20%24%28%60%3Cdiv%20id%3D%22html_7d7a4fd69cda4a98b0d5da44e9067ad5%22%20style%3D%22width%3A%20100.0%25%3B%20height%3A%20100.0%25%3B%22%3E%3Ca%20href%3D%22https%3A//stko-kwg.geog.ucsb.edu/browse/%23kwgr%3As2.level13.9866369615053979648%22%3ESIV%20%3D%203.4%20%3C/a%3E%3C/div%3E%60%29%5B0%5D%3B%0A%20%20%20%20%20%20%20%20%20%20%20%20popup_23186dedf381480b9cb1277fa5a9cdcb.setContent%28html_7d7a4fd69cda4a98b0d5da44e9067ad5%29%3B%0A%20%20%20%20%20%20%20%20%0A%0A%20%20%20%20%20%20%20%20marker_4f1b0b485a1949259f148d070b0a96ff.bindPopup%28popup_23186dedf381480b9cb1277fa5a9cdcb%29%0A%20%20%20%20%20%20%20%20%3B%0A%0A%20%20%20%20%20%20%20%20%0A%20%20%20%20%0A%20%20%20%20%0A%20%20%20%20%20%20%20%20%20%20%20%20var%20marker_236ea2e768e44024b72fefc56f7619fb%20%3D%20L.marker%28%0A%20%20%20%20%20%20%20%20%20%20%20%20%20%20%20%20%5B38.793137000016486%2C%20-83.956396%5D%2C%0A%20%20%20%20%20%20%20%20%20%20%20%20%20%20%20%20%7B%7D%0A%20%20%20%20%20%20%20%20%20%20%20%20%29.addTo%28map_3a928edcdde740abb8f271b483450b91%29%3B%0A%20%20%20%20%20%20%20%20%0A%20%20%20%20%0A%20%20%20%20%20%20%20%20var%20popup_e2ba9759c6f04743b525f5082db16fce%20%3D%20L.popup%28%7B%22maxWidth%22%3A%20%22100%25%22%7D%29%3B%0A%0A%20%20%20%20%20%20%20%20%0A%20%20%20%20%20%20%20%20%20%20%20%20var%20html_f7fefcb80e934437ace9087a6145e237%20%3D%20%24%28%60%3Cdiv%20id%3D%22html_f7fefcb80e934437ace9087a6145e237%22%20style%3D%22width%3A%20100.0%25%3B%20height%3A%20100.0%25%3B%22%3E%3Ca%20href%3D%22https%3A//stko-kwg.geog.ucsb.edu/browse/%23kwgr%3As2.level13.9866369615053979648%22%3ESIV%20%3D%203.4%20%3C/a%3E%3C/div%3E%60%29%5B0%5D%3B%0A%20%20%20%20%20%20%20%20%20%20%20%20popup_e2ba9759c6f04743b525f5082db16fce.setContent%28html_f7fefcb80e934437ace9087a6145e237%29%3B%0A%20%20%20%20%20%20%20%20%0A%0A%20%20%20%20%20%20%20%20marker_236ea2e768e44024b72fefc56f7619fb.bindPopup%28popup_e2ba9759c6f04743b525f5082db16fce%29%0A%20%20%20%20%20%20%20%20%3B%0A%0A%20%20%20%20%20%20%20%20%0A%20%20%20%20%0A%20%20%20%20%0A%20%20%20%20%20%20%20%20%20%20%20%20var%20marker_cff86eb22a6b4ea39a9bc8f83ef1760e%20%3D%20L.marker%28%0A%20%20%20%20%20%20%20%20%20%20%20%20%20%20%20%20%5B38.79267000000565%2C%20-83.957627%5D%2C%0A%20%20%20%20%20%20%20%20%20%20%20%20%20%20%20%20%7B%7D%0A%20%20%20%20%20%20%20%20%20%20%20%20%29.addTo%28map_3a928edcdde740abb8f271b483450b91%29%3B%0A%20%20%20%20%20%20%20%20%0A%20%20%20%20%0A%20%20%20%20%20%20%20%20var%20popup_64c85f9db69545efbee5e3c90ca096f7%20%3D%20L.popup%28%7B%22maxWidth%22%3A%20%22100%25%22%7D%29%3B%0A%0A%20%20%20%20%20%20%20%20%0A%20%20%20%20%20%20%20%20%20%20%20%20var%20html_849bf016d7d041fbb15c242933e93290%20%3D%20%24%28%60%3Cdiv%20id%3D%22html_849bf016d7d041fbb15c242933e93290%22%20style%3D%22width%3A%20100.0%25%3B%20height%3A%20100.0%25%3B%22%3E%3Ca%20href%3D%22https%3A//stko-kwg.geog.ucsb.edu/browse/%23kwgr%3As2.level13.9866369615053979648%22%3ESIV%20%3D%203.4%20%3C/a%3E%3C/div%3E%60%29%5B0%5D%3B%0A%20%20%20%20%20%20%20%20%20%20%20%20popup_64c85f9db69545efbee5e3c90ca096f7.setContent%28html_849bf016d7d041fbb15c242933e93290%29%3B%0A%20%20%20%20%20%20%20%20%0A%0A%20%20%20%20%20%20%20%20marker_cff86eb22a6b4ea39a9bc8f83ef1760e.bindPopup%28popup_64c85f9db69545efbee5e3c90ca096f7%29%0A%20%20%20%20%20%20%20%20%3B%0A%0A%20%20%20%20%20%20%20%20%0A%20%20%20%20%0A%20%20%20%20%0A%20%20%20%20%20%20%20%20%20%20%20%20var%20marker_b7f37ccc455b4dfc87b363054a728819%20%3D%20L.marker%28%0A%20%20%20%20%20%20%20%20%20%20%20%20%20%20%20%20%5B38.789137372443776%2C%20-83.96225833173031%5D%2C%0A%20%20%20%20%20%20%20%20%20%20%20%20%20%20%20%20%7B%7D%0A%20%20%20%20%20%20%20%20%20%20%20%20%29.addTo%28map_3a928edcdde740abb8f271b483450b91%29%3B%0A%20%20%20%20%20%20%20%20%0A%20%20%20%20%0A%20%20%20%20%20%20%20%20var%20popup_14f1a70148d44b23a1aae6a724987d1b%20%3D%20L.popup%28%7B%22maxWidth%22%3A%20%22100%25%22%7D%29%3B%0A%0A%20%20%20%20%20%20%20%20%0A%20%20%20%20%20%20%20%20%20%20%20%20var%20html_17661016d35049d98e672a908e4ac5af%20%3D%20%24%28%60%3Cdiv%20id%3D%22html_17661016d35049d98e672a908e4ac5af%22%20style%3D%22width%3A%20100.0%25%3B%20height%3A%20100.0%25%3B%22%3E%3Ca%20href%3D%22https%3A//stko-kwg.geog.ucsb.edu/browse/%23kwgr%3As2.level13.9866369615053979648%22%3ESIV%20%3D%203.4%20%3C/a%3E%3C/div%3E%60%29%5B0%5D%3B%0A%20%20%20%20%20%20%20%20%20%20%20%20popup_14f1a70148d44b23a1aae6a724987d1b.setContent%28html_17661016d35049d98e672a908e4ac5af%29%3B%0A%20%20%20%20%20%20%20%20%0A%0A%20%20%20%20%20%20%20%20marker_b7f37ccc455b4dfc87b363054a728819.bindPopup%28popup_14f1a70148d44b23a1aae6a724987d1b%29%0A%20%20%20%20%20%20%20%20%3B%0A%0A%20%20%20%20%20%20%20%20%0A%20%20%20%20%0A%20%20%20%20%0A%20%20%20%20%20%20%20%20%20%20%20%20var%20marker_6ee06ef8cc9042d08de00fa8c776f519%20%3D%20L.marker%28%0A%20%20%20%20%20%20%20%20%20%20%20%20%20%20%20%20%5B41.289851082919355%2C%20-82.16774374492232%5D%2C%0A%20%20%20%20%20%20%20%20%20%20%20%20%20%20%20%20%7B%7D%0A%20%20%20%20%20%20%20%20%20%20%20%20%29.addTo%28map_3a928edcdde740abb8f271b483450b91%29%3B%0A%20%20%20%20%20%20%20%20%0A%20%20%20%20%0A%20%20%20%20%20%20%20%20var%20popup_f45fd7a8d2c9440cbdea6f7fd2d9fa60%20%3D%20L.popup%28%7B%22maxWidth%22%3A%20%22100%25%22%7D%29%3B%0A%0A%20%20%20%20%20%20%20%20%0A%20%20%20%20%20%20%20%20%20%20%20%20var%20html_7ad642db07494041bfb25a145a8710dc%20%3D%20%24%28%60%3Cdiv%20id%3D%22html_7ad642db07494041bfb25a145a8710dc%22%20style%3D%22width%3A%20100.0%25%3B%20height%3A%20100.0%25%3B%22%3E%3Ca%20href%3D%22https%3A//stko-kwg.geog.ucsb.edu/browse/%23kwgr%3As2.level13.9866369615053979648%22%3ESIV%20%3D%203.4%20%3C/a%3E%3C/div%3E%60%29%5B0%5D%3B%0A%20%20%20%20%20%20%20%20%20%20%20%20popup_f45fd7a8d2c9440cbdea6f7fd2d9fa60.setContent%28html_7ad642db07494041bfb25a145a8710dc%29%3B%0A%20%20%20%20%20%20%20%20%0A%0A%20%20%20%20%20%20%20%20marker_6ee06ef8cc9042d08de00fa8c776f519.bindPopup%28popup_f45fd7a8d2c9440cbdea6f7fd2d9fa60%29%0A%20%20%20%20%20%20%20%20%3B%0A%0A%20%20%20%20%20%20%20%20%0A%20%20%20%20%0A%20%20%20%20%0A%20%20%20%20%20%20%20%20%20%20%20%20var%20marker_8b033f1041d5495eb2fae700bb870b18%20%3D%20L.marker%28%0A%20%20%20%20%20%20%20%20%20%20%20%20%20%20%20%20%5B41.28740150000608%2C%20-82.16718249999987%5D%2C%0A%20%20%20%20%20%20%20%20%20%20%20%20%20%20%20%20%7B%7D%0A%20%20%20%20%20%20%20%20%20%20%20%20%29.addTo%28map_3a928edcdde740abb8f271b483450b91%29%3B%0A%20%20%20%20%20%20%20%20%0A%20%20%20%20%0A%20%20%20%20%20%20%20%20var%20popup_646dda7b936b4e4584a5283d162e187e%20%3D%20L.popup%28%7B%22maxWidth%22%3A%20%22100%25%22%7D%29%3B%0A%0A%20%20%20%20%20%20%20%20%0A%20%20%20%20%20%20%20%20%20%20%20%20var%20html_bddf6843a34241ce81e4414c05df44e9%20%3D%20%24%28%60%3Cdiv%20id%3D%22html_bddf6843a34241ce81e4414c05df44e9%22%20style%3D%22width%3A%20100.0%25%3B%20height%3A%20100.0%25%3B%22%3E%3Ca%20href%3D%22https%3A//stko-kwg.geog.ucsb.edu/browse/%23kwgr%3As2.level13.9866369615053979648%22%3ESIV%20%3D%203.4%20%3C/a%3E%3C/div%3E%60%29%5B0%5D%3B%0A%20%20%20%20%20%20%20%20%20%20%20%20popup_646dda7b936b4e4584a5283d162e187e.setContent%28html_bddf6843a34241ce81e4414c05df44e9%29%3B%0A%20%20%20%20%20%20%20%20%0A%0A%20%20%20%20%20%20%20%20marker_8b033f1041d5495eb2fae700bb870b18.bindPopup%28popup_646dda7b936b4e4584a5283d162e187e%29%0A%20%20%20%20%20%20%20%20%3B%0A%0A%20%20%20%20%20%20%20%20%0A%20%20%20%20%0A%20%20%20%20%0A%20%20%20%20%20%20%20%20%20%20%20%20var%20marker_acf4ac74295041a381133a0af8343b63%20%3D%20L.marker%28%0A%20%20%20%20%20%20%20%20%20%20%20%20%20%20%20%20%5B41.28123390000249%2C%20-82.1768071000007%5D%2C%0A%20%20%20%20%20%20%20%20%20%20%20%20%20%20%20%20%7B%7D%0A%20%20%20%20%20%20%20%20%20%20%20%20%29.addTo%28map_3a928edcdde740abb8f271b483450b91%29%3B%0A%20%20%20%20%20%20%20%20%0A%20%20%20%20%0A%20%20%20%20%20%20%20%20var%20popup_1b3f86023b5e439d86e8d800a18c01a1%20%3D%20L.popup%28%7B%22maxWidth%22%3A%20%22100%25%22%7D%29%3B%0A%0A%20%20%20%20%20%20%20%20%0A%20%20%20%20%20%20%20%20%20%20%20%20var%20html_928d1eb6d4bb44f2b61ad52c56137451%20%3D%20%24%28%60%3Cdiv%20id%3D%22html_928d1eb6d4bb44f2b61ad52c56137451%22%20style%3D%22width%3A%20100.0%25%3B%20height%3A%20100.0%25%3B%22%3E%3Ca%20href%3D%22https%3A//stko-kwg.geog.ucsb.edu/browse/%23kwgr%3As2.level13.9866369615053979648%22%3ESIV%20%3D%203.4%20%3C/a%3E%3C/div%3E%60%29%5B0%5D%3B%0A%20%20%20%20%20%20%20%20%20%20%20%20popup_1b3f86023b5e439d86e8d800a18c01a1.setContent%28html_928d1eb6d4bb44f2b61ad52c56137451%29%3B%0A%20%20%20%20%20%20%20%20%0A%0A%20%20%20%20%20%20%20%20marker_acf4ac74295041a381133a0af8343b63.bindPopup%28popup_1b3f86023b5e439d86e8d800a18c01a1%29%0A%20%20%20%20%20%20%20%20%3B%0A%0A%20%20%20%20%20%20%20%20%0A%20%20%20%20%0A%20%20%20%20%0A%20%20%20%20%20%20%20%20%20%20%20%20var%20marker_1648a49d25dd43c7af17a5f365e66b43%20%3D%20L.marker%28%0A%20%20%20%20%20%20%20%20%20%20%20%20%20%20%20%20%5B41.28791999999872%2C%20-82.16731600000011%5D%2C%0A%20%20%20%20%20%20%20%20%20%20%20%20%20%20%20%20%7B%7D%0A%20%20%20%20%20%20%20%20%20%20%20%20%29.addTo%28map_3a928edcdde740abb8f271b483450b91%29%3B%0A%20%20%20%20%20%20%20%20%0A%20%20%20%20%0A%20%20%20%20%20%20%20%20var%20popup_0c1c94ed07c54b608e10d66f7230118a%20%3D%20L.popup%28%7B%22maxWidth%22%3A%20%22100%25%22%7D%29%3B%0A%0A%20%20%20%20%20%20%20%20%0A%20%20%20%20%20%20%20%20%20%20%20%20var%20html_98e8de086db94228a5a9059b1819efff%20%3D%20%24%28%60%3Cdiv%20id%3D%22html_98e8de086db94228a5a9059b1819efff%22%20style%3D%22width%3A%20100.0%25%3B%20height%3A%20100.0%25%3B%22%3E%3Ca%20href%3D%22https%3A//stko-kwg.geog.ucsb.edu/browse/%23kwgr%3As2.level13.9866369615053979648%22%3ESIV%20%3D%203.4%20%3C/a%3E%3C/div%3E%60%29%5B0%5D%3B%0A%20%20%20%20%20%20%20%20%20%20%20%20popup_0c1c94ed07c54b608e10d66f7230118a.setContent%28html_98e8de086db94228a5a9059b1819efff%29%3B%0A%20%20%20%20%20%20%20%20%0A%0A%20%20%20%20%20%20%20%20marker_1648a49d25dd43c7af17a5f365e66b43.bindPopup%28popup_0c1c94ed07c54b608e10d66f7230118a%29%0A%20%20%20%20%20%20%20%20%3B%0A%0A%20%20%20%20%20%20%20%20%0A%20%20%20%20%0A%20%20%20%20%0A%20%20%20%20%20%20%20%20%20%20%20%20var%20marker_28f3bf504d2f4564bd5806194a9abd68%20%3D%20L.marker%28%0A%20%20%20%20%20%20%20%20%20%20%20%20%20%20%20%20%5B41.288059500006035%2C%20-82.16757500000024%5D%2C%0A%20%20%20%20%20%20%20%20%20%20%20%20%20%20%20%20%7B%7D%0A%20%20%20%20%20%20%20%20%20%20%20%20%29.addTo%28map_3a928edcdde740abb8f271b483450b91%29%3B%0A%20%20%20%20%20%20%20%20%0A%20%20%20%20%0A%20%20%20%20%20%20%20%20var%20popup_87b424675e244db0be2178470dfb18d0%20%3D%20L.popup%28%7B%22maxWidth%22%3A%20%22100%25%22%7D%29%3B%0A%0A%20%20%20%20%20%20%20%20%0A%20%20%20%20%20%20%20%20%20%20%20%20var%20html_90d99bc0fd2d449b814ba13b7e3d5f9f%20%3D%20%24%28%60%3Cdiv%20id%3D%22html_90d99bc0fd2d449b814ba13b7e3d5f9f%22%20style%3D%22width%3A%20100.0%25%3B%20height%3A%20100.0%25%3B%22%3E%3Ca%20href%3D%22https%3A//stko-kwg.geog.ucsb.edu/browse/%23kwgr%3As2.level13.9866369615053979648%22%3ESIV%20%3D%203.4%20%3C/a%3E%3C/div%3E%60%29%5B0%5D%3B%0A%20%20%20%20%20%20%20%20%20%20%20%20popup_87b424675e244db0be2178470dfb18d0.setContent%28html_90d99bc0fd2d449b814ba13b7e3d5f9f%29%3B%0A%20%20%20%20%20%20%20%20%0A%0A%20%20%20%20%20%20%20%20marker_28f3bf504d2f4564bd5806194a9abd68.bindPopup%28popup_87b424675e244db0be2178470dfb18d0%29%0A%20%20%20%20%20%20%20%20%3B%0A%0A%20%20%20%20%20%20%20%20%0A%20%20%20%20%0A%20%20%20%20%0A%20%20%20%20%20%20%20%20%20%20%20%20var%20marker_d0f8dc88f4c848288c7338b7048da326%20%3D%20L.marker%28%0A%20%20%20%20%20%20%20%20%20%20%20%20%20%20%20%20%5B41.28174600000121%2C%20-82.171907500005%5D%2C%0A%20%20%20%20%20%20%20%20%20%20%20%20%20%20%20%20%7B%7D%0A%20%20%20%20%20%20%20%20%20%20%20%20%29.addTo%28map_3a928edcdde740abb8f271b483450b91%29%3B%0A%20%20%20%20%20%20%20%20%0A%20%20%20%20%0A%20%20%20%20%20%20%20%20var%20popup_5055571ba20c42999a9f8c469835a4f1%20%3D%20L.popup%28%7B%22maxWidth%22%3A%20%22100%25%22%7D%29%3B%0A%0A%20%20%20%20%20%20%20%20%0A%20%20%20%20%20%20%20%20%20%20%20%20var%20html_657a480174a44353b4500ed02ce7401f%20%3D%20%24%28%60%3Cdiv%20id%3D%22html_657a480174a44353b4500ed02ce7401f%22%20style%3D%22width%3A%20100.0%25%3B%20height%3A%20100.0%25%3B%22%3E%3Ca%20href%3D%22https%3A//stko-kwg.geog.ucsb.edu/browse/%23kwgr%3As2.level13.9866369615053979648%22%3ESIV%20%3D%203.4%20%3C/a%3E%3C/div%3E%60%29%5B0%5D%3B%0A%20%20%20%20%20%20%20%20%20%20%20%20popup_5055571ba20c42999a9f8c469835a4f1.setContent%28html_657a480174a44353b4500ed02ce7401f%29%3B%0A%20%20%20%20%20%20%20%20%0A%0A%20%20%20%20%20%20%20%20marker_d0f8dc88f4c848288c7338b7048da326.bindPopup%28popup_5055571ba20c42999a9f8c469835a4f1%29%0A%20%20%20%20%20%20%20%20%3B%0A%0A%20%20%20%20%20%20%20%20%0A%20%20%20%20%0A%20%20%20%20%0A%20%20%20%20%20%20%20%20%20%20%20%20var%20marker_4fd945f767c7497db2e4291e463a9c25%20%3D%20L.marker%28%0A%20%20%20%20%20%20%20%20%20%20%20%20%20%20%20%20%5B41.283637000013556%2C%20-82.17695900000047%5D%2C%0A%20%20%20%20%20%20%20%20%20%20%20%20%20%20%20%20%7B%7D%0A%20%20%20%20%20%20%20%20%20%20%20%20%29.addTo%28map_3a928edcdde740abb8f271b483450b91%29%3B%0A%20%20%20%20%20%20%20%20%0A%20%20%20%20%0A%20%20%20%20%20%20%20%20var%20popup_5a759b63d3d44c0786f457847597b296%20%3D%20L.popup%28%7B%22maxWidth%22%3A%20%22100%25%22%7D%29%3B%0A%0A%20%20%20%20%20%20%20%20%0A%20%20%20%20%20%20%20%20%20%20%20%20var%20html_a2f39dd7ceb047bbb46cb74e6cc65daa%20%3D%20%24%28%60%3Cdiv%20id%3D%22html_a2f39dd7ceb047bbb46cb74e6cc65daa%22%20style%3D%22width%3A%20100.0%25%3B%20height%3A%20100.0%25%3B%22%3E%3Ca%20href%3D%22https%3A//stko-kwg.geog.ucsb.edu/browse/%23kwgr%3As2.level13.9866369615053979648%22%3ESIV%20%3D%203.4%20%3C/a%3E%3C/div%3E%60%29%5B0%5D%3B%0A%20%20%20%20%20%20%20%20%20%20%20%20popup_5a759b63d3d44c0786f457847597b296.setContent%28html_a2f39dd7ceb047bbb46cb74e6cc65daa%29%3B%0A%20%20%20%20%20%20%20%20%0A%0A%20%20%20%20%20%20%20%20marker_4fd945f767c7497db2e4291e463a9c25.bindPopup%28popup_5a759b63d3d44c0786f457847597b296%29%0A%20%20%20%20%20%20%20%20%3B%0A%0A%20%20%20%20%20%20%20%20%0A%20%20%20%20%0A%20%20%20%20%0A%20%20%20%20%20%20%20%20%20%20%20%20var%20marker_87fbc920775f414cbeafbdac4090ba37%20%3D%20L.marker%28%0A%20%20%20%20%20%20%20%20%20%20%20%20%20%20%20%20%5B41.286897938949544%2C%20-82.1683942471988%5D%2C%0A%20%20%20%20%20%20%20%20%20%20%20%20%20%20%20%20%7B%7D%0A%20%20%20%20%20%20%20%20%20%20%20%20%29.addTo%28map_3a928edcdde740abb8f271b483450b91%29%3B%0A%20%20%20%20%20%20%20%20%0A%20%20%20%20%0A%20%20%20%20%20%20%20%20var%20popup_dfbb82c29ea844c089eb0cf30fc66314%20%3D%20L.popup%28%7B%22maxWidth%22%3A%20%22100%25%22%7D%29%3B%0A%0A%20%20%20%20%20%20%20%20%0A%20%20%20%20%20%20%20%20%20%20%20%20var%20html_5ffc175e34d044a2ad5bbdc71fd9a0a2%20%3D%20%24%28%60%3Cdiv%20id%3D%22html_5ffc175e34d044a2ad5bbdc71fd9a0a2%22%20style%3D%22width%3A%20100.0%25%3B%20height%3A%20100.0%25%3B%22%3E%3Ca%20href%3D%22https%3A//stko-kwg.geog.ucsb.edu/browse/%23kwgr%3As2.level13.9866369615053979648%22%3ESIV%20%3D%203.4%20%3C/a%3E%3C/div%3E%60%29%5B0%5D%3B%0A%20%20%20%20%20%20%20%20%20%20%20%20popup_dfbb82c29ea844c089eb0cf30fc66314.setContent%28html_5ffc175e34d044a2ad5bbdc71fd9a0a2%29%3B%0A%20%20%20%20%20%20%20%20%0A%0A%20%20%20%20%20%20%20%20marker_87fbc920775f414cbeafbdac4090ba37.bindPopup%28popup_dfbb82c29ea844c089eb0cf30fc66314%29%0A%20%20%20%20%20%20%20%20%3B%0A%0A%20%20%20%20%20%20%20%20%0A%20%20%20%20%0A%20%20%20%20%0A%20%20%20%20%20%20%20%20%20%20%20%20var%20marker_46a585cd428a47358ab74809a959904b%20%3D%20L.marker%28%0A%20%20%20%20%20%20%20%20%20%20%20%20%20%20%20%20%5B41.29031319375462%2C%20-82.16776592917456%5D%2C%0A%20%20%20%20%20%20%20%20%20%20%20%20%20%20%20%20%7B%7D%0A%20%20%20%20%20%20%20%20%20%20%20%20%29.addTo%28map_3a928edcdde740abb8f271b483450b91%29%3B%0A%20%20%20%20%20%20%20%20%0A%20%20%20%20%0A%20%20%20%20%20%20%20%20var%20popup_f89104f9927040d5af3b4b5992c580fa%20%3D%20L.popup%28%7B%22maxWidth%22%3A%20%22100%25%22%7D%29%3B%0A%0A%20%20%20%20%20%20%20%20%0A%20%20%20%20%20%20%20%20%20%20%20%20var%20html_762892e6752a4bfabec9fbf73861fb58%20%3D%20%24%28%60%3Cdiv%20id%3D%22html_762892e6752a4bfabec9fbf73861fb58%22%20style%3D%22width%3A%20100.0%25%3B%20height%3A%20100.0%25%3B%22%3E%3Ca%20href%3D%22https%3A//stko-kwg.geog.ucsb.edu/browse/%23kwgr%3As2.level13.9866369615053979648%22%3ESIV%20%3D%203.4%20%3C/a%3E%3C/div%3E%60%29%5B0%5D%3B%0A%20%20%20%20%20%20%20%20%20%20%20%20popup_f89104f9927040d5af3b4b5992c580fa.setContent%28html_762892e6752a4bfabec9fbf73861fb58%29%3B%0A%20%20%20%20%20%20%20%20%0A%0A%20%20%20%20%20%20%20%20marker_46a585cd428a47358ab74809a959904b.bindPopup%28popup_f89104f9927040d5af3b4b5992c580fa%29%0A%20%20%20%20%20%20%20%20%3B%0A%0A%20%20%20%20%20%20%20%20%0A%20%20%20%20%0A%20%20%20%20%0A%20%20%20%20%20%20%20%20%20%20%20%20var%20marker_1813ae73cb414f399c4fc801e40ba92d%20%3D%20L.marker%28%0A%20%20%20%20%20%20%20%20%20%20%20%20%20%20%20%20%5B41.29002550000267%2C%20-82.16784800000045%5D%2C%0A%20%20%20%20%20%20%20%20%20%20%20%20%20%20%20%20%7B%7D%0A%20%20%20%20%20%20%20%20%20%20%20%20%29.addTo%28map_3a928edcdde740abb8f271b483450b91%29%3B%0A%20%20%20%20%20%20%20%20%0A%20%20%20%20%0A%20%20%20%20%20%20%20%20var%20popup_084141c7c9684b3fb34b28a426ba2a8a%20%3D%20L.popup%28%7B%22maxWidth%22%3A%20%22100%25%22%7D%29%3B%0A%0A%20%20%20%20%20%20%20%20%0A%20%20%20%20%20%20%20%20%20%20%20%20var%20html_a6dd6c1d7f4b444bba8c3cb999f1a48a%20%3D%20%24%28%60%3Cdiv%20id%3D%22html_a6dd6c1d7f4b444bba8c3cb999f1a48a%22%20style%3D%22width%3A%20100.0%25%3B%20height%3A%20100.0%25%3B%22%3E%3Ca%20href%3D%22https%3A//stko-kwg.geog.ucsb.edu/browse/%23kwgr%3As2.level13.9866369615053979648%22%3ESIV%20%3D%203.4%20%3C/a%3E%3C/div%3E%60%29%5B0%5D%3B%0A%20%20%20%20%20%20%20%20%20%20%20%20popup_084141c7c9684b3fb34b28a426ba2a8a.setContent%28html_a6dd6c1d7f4b444bba8c3cb999f1a48a%29%3B%0A%20%20%20%20%20%20%20%20%0A%0A%20%20%20%20%20%20%20%20marker_1813ae73cb414f399c4fc801e40ba92d.bindPopup%28popup_084141c7c9684b3fb34b28a426ba2a8a%29%0A%20%20%20%20%20%20%20%20%3B%0A%0A%20%20%20%20%20%20%20%20%0A%20%20%20%20%0A%20%20%20%20%0A%20%20%20%20%20%20%20%20%20%20%20%20var%20marker_32c3990ca8f54746832d6d45f8b77299%20%3D%20L.marker%28%0A%20%20%20%20%20%20%20%20%20%20%20%20%20%20%20%20%5B41.2881455554418%2C%20-82.1675967448261%5D%2C%0A%20%20%20%20%20%20%20%20%20%20%20%20%20%20%20%20%7B%7D%0A%20%20%20%20%20%20%20%20%20%20%20%20%29.addTo%28map_3a928edcdde740abb8f271b483450b91%29%3B%0A%20%20%20%20%20%20%20%20%0A%20%20%20%20%0A%20%20%20%20%20%20%20%20var%20popup_27ef2b55dc7d46f38c599cfa01110411%20%3D%20L.popup%28%7B%22maxWidth%22%3A%20%22100%25%22%7D%29%3B%0A%0A%20%20%20%20%20%20%20%20%0A%20%20%20%20%20%20%20%20%20%20%20%20var%20html_3ecd064610494109a690a80931c6dd89%20%3D%20%24%28%60%3Cdiv%20id%3D%22html_3ecd064610494109a690a80931c6dd89%22%20style%3D%22width%3A%20100.0%25%3B%20height%3A%20100.0%25%3B%22%3E%3Ca%20href%3D%22https%3A//stko-kwg.geog.ucsb.edu/browse/%23kwgr%3As2.level13.9866369615053979648%22%3ESIV%20%3D%203.4%20%3C/a%3E%3C/div%3E%60%29%5B0%5D%3B%0A%20%20%20%20%20%20%20%20%20%20%20%20popup_27ef2b55dc7d46f38c599cfa01110411.setContent%28html_3ecd064610494109a690a80931c6dd89%29%3B%0A%20%20%20%20%20%20%20%20%0A%0A%20%20%20%20%20%20%20%20marker_32c3990ca8f54746832d6d45f8b77299.bindPopup%28popup_27ef2b55dc7d46f38c599cfa01110411%29%0A%20%20%20%20%20%20%20%20%3B%0A%0A%20%20%20%20%20%20%20%20%0A%20%20%20%20%0A%20%20%20%20%0A%20%20%20%20%20%20%20%20%20%20%20%20var%20marker_a5cf3099d34e45c2827f7b5ba78121ef%20%3D%20L.marker%28%0A%20%20%20%20%20%20%20%20%20%20%20%20%20%20%20%20%5B41.28299841550793%2C%20-82.1782885292781%5D%2C%0A%20%20%20%20%20%20%20%20%20%20%20%20%20%20%20%20%7B%7D%0A%20%20%20%20%20%20%20%20%20%20%20%20%29.addTo%28map_3a928edcdde740abb8f271b483450b91%29%3B%0A%20%20%20%20%20%20%20%20%0A%20%20%20%20%0A%20%20%20%20%20%20%20%20var%20popup_576237631d3b460fa17c1d0d5a29f19f%20%3D%20L.popup%28%7B%22maxWidth%22%3A%20%22100%25%22%7D%29%3B%0A%0A%20%20%20%20%20%20%20%20%0A%20%20%20%20%20%20%20%20%20%20%20%20var%20html_c8dfc79507e64e4aaf4900403ba82b48%20%3D%20%24%28%60%3Cdiv%20id%3D%22html_c8dfc79507e64e4aaf4900403ba82b48%22%20style%3D%22width%3A%20100.0%25%3B%20height%3A%20100.0%25%3B%22%3E%3Ca%20href%3D%22https%3A//stko-kwg.geog.ucsb.edu/browse/%23kwgr%3As2.level13.9866369615053979648%22%3ESIV%20%3D%203.4%20%3C/a%3E%3C/div%3E%60%29%5B0%5D%3B%0A%20%20%20%20%20%20%20%20%20%20%20%20popup_576237631d3b460fa17c1d0d5a29f19f.setContent%28html_c8dfc79507e64e4aaf4900403ba82b48%29%3B%0A%20%20%20%20%20%20%20%20%0A%0A%20%20%20%20%20%20%20%20marker_a5cf3099d34e45c2827f7b5ba78121ef.bindPopup%28popup_576237631d3b460fa17c1d0d5a29f19f%29%0A%20%20%20%20%20%20%20%20%3B%0A%0A%20%20%20%20%20%20%20%20%0A%20%20%20%20%0A%20%20%20%20%0A%20%20%20%20%20%20%20%20%20%20%20%20var%20marker_8fcaf221c40e4f3fb3915d841661cd37%20%3D%20L.marker%28%0A%20%20%20%20%20%20%20%20%20%20%20%20%20%20%20%20%5B41.287830737307104%2C%20-82.16722678058339%5D%2C%0A%20%20%20%20%20%20%20%20%20%20%20%20%20%20%20%20%7B%7D%0A%20%20%20%20%20%20%20%20%20%20%20%20%29.addTo%28map_3a928edcdde740abb8f271b483450b91%29%3B%0A%20%20%20%20%20%20%20%20%0A%20%20%20%20%0A%20%20%20%20%20%20%20%20var%20popup_6b59457cad6f472b9ae443aa07c66c5d%20%3D%20L.popup%28%7B%22maxWidth%22%3A%20%22100%25%22%7D%29%3B%0A%0A%20%20%20%20%20%20%20%20%0A%20%20%20%20%20%20%20%20%20%20%20%20var%20html_67aa8a9e474347fb967c70d6321febd5%20%3D%20%24%28%60%3Cdiv%20id%3D%22html_67aa8a9e474347fb967c70d6321febd5%22%20style%3D%22width%3A%20100.0%25%3B%20height%3A%20100.0%25%3B%22%3E%3Ca%20href%3D%22https%3A//stko-kwg.geog.ucsb.edu/browse/%23kwgr%3As2.level13.9866369615053979648%22%3ESIV%20%3D%203.4%20%3C/a%3E%3C/div%3E%60%29%5B0%5D%3B%0A%20%20%20%20%20%20%20%20%20%20%20%20popup_6b59457cad6f472b9ae443aa07c66c5d.setContent%28html_67aa8a9e474347fb967c70d6321febd5%29%3B%0A%20%20%20%20%20%20%20%20%0A%0A%20%20%20%20%20%20%20%20marker_8fcaf221c40e4f3fb3915d841661cd37.bindPopup%28popup_6b59457cad6f472b9ae443aa07c66c5d%29%0A%20%20%20%20%20%20%20%20%3B%0A%0A%20%20%20%20%20%20%20%20%0A%20%20%20%20%0A%20%20%20%20%0A%20%20%20%20%20%20%20%20%20%20%20%20var%20marker_8bdcb4c291374c68a8667185e9860b82%20%3D%20L.marker%28%0A%20%20%20%20%20%20%20%20%20%20%20%20%20%20%20%20%5B41.287595815831345%2C%20-82.16717982268389%5D%2C%0A%20%20%20%20%20%20%20%20%20%20%20%20%20%20%20%20%7B%7D%0A%20%20%20%20%20%20%20%20%20%20%20%20%29.addTo%28map_3a928edcdde740abb8f271b483450b91%29%3B%0A%20%20%20%20%20%20%20%20%0A%20%20%20%20%0A%20%20%20%20%20%20%20%20var%20popup_4888b90e98f44c26b395585fd2c2fdb9%20%3D%20L.popup%28%7B%22maxWidth%22%3A%20%22100%25%22%7D%29%3B%0A%0A%20%20%20%20%20%20%20%20%0A%20%20%20%20%20%20%20%20%20%20%20%20var%20html_8f92d98211f848a5a6d9c74382599f70%20%3D%20%24%28%60%3Cdiv%20id%3D%22html_8f92d98211f848a5a6d9c74382599f70%22%20style%3D%22width%3A%20100.0%25%3B%20height%3A%20100.0%25%3B%22%3E%3Ca%20href%3D%22https%3A//stko-kwg.geog.ucsb.edu/browse/%23kwgr%3As2.level13.9866369615053979648%22%3ESIV%20%3D%203.4%20%3C/a%3E%3C/div%3E%60%29%5B0%5D%3B%0A%20%20%20%20%20%20%20%20%20%20%20%20popup_4888b90e98f44c26b395585fd2c2fdb9.setContent%28html_8f92d98211f848a5a6d9c74382599f70%29%3B%0A%20%20%20%20%20%20%20%20%0A%0A%20%20%20%20%20%20%20%20marker_8bdcb4c291374c68a8667185e9860b82.bindPopup%28popup_4888b90e98f44c26b395585fd2c2fdb9%29%0A%20%20%20%20%20%20%20%20%3B%0A%0A%20%20%20%20%20%20%20%20%0A%20%20%20%20%0A%20%20%20%20%0A%20%20%20%20%20%20%20%20%20%20%20%20var%20marker_be09407ee3904b7db2eb3ae058c4189a%20%3D%20L.marker%28%0A%20%20%20%20%20%20%20%20%20%20%20%20%20%20%20%20%5B40.42008599422712%2C%20-84.73707469280862%5D%2C%0A%20%20%20%20%20%20%20%20%20%20%20%20%20%20%20%20%7B%7D%0A%20%20%20%20%20%20%20%20%20%20%20%20%29.addTo%28map_3a928edcdde740abb8f271b483450b91%29%3B%0A%20%20%20%20%20%20%20%20%0A%20%20%20%20%0A%20%20%20%20%20%20%20%20var%20popup_df31bc92fa26403caf56174f73c8639d%20%3D%20L.popup%28%7B%22maxWidth%22%3A%20%22100%25%22%7D%29%3B%0A%0A%20%20%20%20%20%20%20%20%0A%20%20%20%20%20%20%20%20%20%20%20%20var%20html_7e234aa350264c39bb91c34425e07986%20%3D%20%24%28%60%3Cdiv%20id%3D%22html_7e234aa350264c39bb91c34425e07986%22%20style%3D%22width%3A%20100.0%25%3B%20height%3A%20100.0%25%3B%22%3E%3Ca%20href%3D%22https%3A//stko-kwg.geog.ucsb.edu/browse/%23kwgr%3As2.level13.9866369615053979648%22%3ESIV%20%3D%203.4%20%3C/a%3E%3C/div%3E%60%29%5B0%5D%3B%0A%20%20%20%20%20%20%20%20%20%20%20%20popup_df31bc92fa26403caf56174f73c8639d.setContent%28html_7e234aa350264c39bb91c34425e07986%29%3B%0A%20%20%20%20%20%20%20%20%0A%0A%20%20%20%20%20%20%20%20marker_be09407ee3904b7db2eb3ae058c4189a.bindPopup%28popup_df31bc92fa26403caf56174f73c8639d%29%0A%20%20%20%20%20%20%20%20%3B%0A%0A%20%20%20%20%20%20%20%20%0A%20%20%20%20%0A%3C/script%3E onload=\"this.contentDocument.open();this.contentDocument.write(    decodeURIComponent(this.getAttribute('data-html')));this.contentDocument.close();\" allowfullscreen webkitallowfullscreen mozallowfullscreen></iframe></div></div>"
      ],
      "text/plain": [
       "<folium.folium.Map at 0x7f288460c160>"
      ]
     },
     "execution_count": 39,
     "metadata": {},
     "output_type": "execute_result"
    }
   ],
   "source": [
    "import geopandas as gpd\n",
    "import folium\n",
    "from folium.plugins import FastMarkerCluster\n",
    "\n",
    "ohio_map = folium.Map(location=[39.9612, -82.9988], zoom_start=7)\n",
    "\n",
    "for i in range(len(gohio)):\n",
    "    lat = gohio.loc[i, \"y\"]\n",
    "    lng = gohio.loc[i, \"x\"]\n",
    "    popup='<a href=\"https://stko-kwg.geog.ucsb.edu/browse/#kwgr:s2.level13.9866369615053979648\">SIV = 3.4 </a>'\n",
    "\n",
    "# popup = gohio.loc[i, [\"url\", \"dctype\", \"s2vis\"]].to_html()\n",
    "    folium.Marker(location=[lat, lng], popup=popup).add_to(ohio_map)\n",
    "\n",
    "# folium.GeoJson(gohio).add_to(ohio_map)\n",
    "\n",
    "# marker_cluster = FastMarkerCluster(gohio.geometry)\n",
    "# ohio_map.add_child(marker_cluster)\n",
    "\n",
    "ohio_map\n"
   ]
  }
 ],
 "metadata": {
  "kernelspec": {
   "display_name": "Python 3 (ipykernel)",
   "language": "python",
   "name": "python3"
  },
  "language_info": {
   "codemirror_mode": {
    "name": "ipython",
    "version": 3
   },
   "file_extension": ".py",
   "mimetype": "text/x-python",
   "name": "python",
   "nbconvert_exporter": "python",
   "pygments_lexer": "ipython3",
   "version": "3.10.8"
  }
 },
 "nbformat": 4,
 "nbformat_minor": 5
}
